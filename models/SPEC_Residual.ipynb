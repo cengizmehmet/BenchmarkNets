{
  "nbformat": 4,
  "nbformat_minor": 0,
  "metadata": {
    "colab": {
      "provenance": [],
      "authorship_tag": "ABX9TyM8HFbkd+W7O+5n3Z1DqVOO",
      "include_colab_link": true
    },
    "kernelspec": {
      "name": "python3",
      "display_name": "Python 3"
    },
    "language_info": {
      "name": "python"
    },
    "gpuClass": "standard"
  },
  "cells": [
    {
      "cell_type": "markdown",
      "metadata": {
        "id": "view-in-github",
        "colab_type": "text"
      },
      "source": [
        "<a href=\"https://colab.research.google.com/github/cengizmehmet/BenchmarkNets/blob/main/models/SPEC_Residual.ipynb\" target=\"_parent\"><img src=\"https://colab.research.google.com/assets/colab-badge.svg\" alt=\"Open In Colab\"/></a>"
      ]
    },
    {
      "cell_type": "markdown",
      "source": [
        "# **RESIDUAL NETWORKS**"
      ],
      "metadata": {
        "id": "3WclNpRdpYDj"
      }
    },
    {
      "cell_type": "markdown",
      "source": [
        "**Prepared by Mehmet CENGIZ**\n",
        "\n",
        "ORCID: 0000-0003-4972-167X\n",
        "\n",
        "This script is built to create Residual-inspired Networks trained in the SPEC CPU2017 dataset. The source of the dataset can be found on the website of Standard Performance Evaluation Corporation ([SPEC](https://www.spec.org/cpu2017/results/)). You can access the modified dataset in line with our requirements from the [data](https://github.com/cengizmehmet/BenchmarkNets/tree/main/data) folder of this repository. Those who will use this script is free to modify this adhering to their needs. As residual blocks are specified designs, for more information, please read its [paper](https://arxiv.org/abs/1512.03385)."
      ],
      "metadata": {
        "id": "YkRzSwdwpsFP"
      }
    },
    {
      "cell_type": "markdown",
      "source": [
        "\n",
        "\n",
        "---\n",
        "\n"
      ],
      "metadata": {
        "id": "riNhaheHO8GT"
      }
    },
    {
      "cell_type": "markdown",
      "source": [
        "## **NECESSARY DEPENDENCIES AND LIBRARIES**"
      ],
      "metadata": {
        "id": "kG3mYApAgWAo"
      }
    },
    {
      "cell_type": "code",
      "execution_count": null,
      "metadata": {
        "id": "HI2zK1Tn2aH5"
      },
      "outputs": [],
      "source": [
        "import pandas as pd\n",
        "import numpy as np\n",
        "from numpy.random import seed\n",
        "from typing import Tuple, List\n",
        "from tensorflow import keras\n",
        "from keras.models import Model\n",
        "from tensorflow.keras.layers import Input, Conv1D, Activation, Add, Flatten, Dense\n",
        "from sklearn.metrics import *\n",
        "import matplotlib.pyplot as plt\n",
        "import seaborn as sns\n",
        "from scipy.stats import gaussian_kde"
      ]
    },
    {
      "cell_type": "markdown",
      "source": [
        "**Versions:** This information is the library versions in Google Colab when the models were first designed (around the end of 2022). Version differences may occur due to time and programming environment changes.\n",
        "\n",
        "* tensorflow: 2.12.0\n",
        "* pandas: 1.5.3\n",
        "* numpy: 1.22.4\n",
        "* seaborn: 0.12.2\n",
        "* sklearn-pandas: 2.2.0\n",
        "\n"
      ],
      "metadata": {
        "id": "UizXAgivo-JB"
      }
    },
    {
      "cell_type": "markdown",
      "source": [
        "## **NECESSARY FUNCTIONS**"
      ],
      "metadata": {
        "id": "A_RihQftrkvg"
      }
    },
    {
      "cell_type": "markdown",
      "source": [
        "**Method Name:** identity_block\n",
        "\n",
        "**Parameters:** keras.Input, list\n",
        "\n",
        "**Return:** keras.Input\n",
        "\n",
        "This function builds the identity block which is an element of residual blocks as in the figure below.\n",
        "\n",
        "This function accepts an keras tensor that hold the information of the previous block anda list that hold the details of the block to be created, and then, returns the final state of the tensor.\n",
        "\n",
        "\n",
        "![ResNet_IdentBlock.png](data:image/png;base64,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)"
      ],
      "metadata": {
        "id": "V3Fxyh0AsAQI"
      }
    },
    {
      "cell_type": "code",
      "execution_count": null,
      "metadata": {
        "id": "aLxmKMmVr7Y1"
      },
      "outputs": [],
      "source": [
        "def identity_block(X: keras.Input, filters_sizes: list) -> keras.Input:\n",
        "  shortcut = X\n",
        "\n",
        "  # First Layer\n",
        "  X = Conv1D(filters = filters_sizes[0], kernel_size = 1, strides = 1, padding = 'valid')(X)\n",
        "  X = Activation('relu')(X)\n",
        "\n",
        "  # Second Layer\n",
        "  X = Conv1D(filters = filters_sizes[1], kernel_size = 3, strides = 1, padding = 'same')(X)\n",
        "  X = Activation('relu')(X)\n",
        "\n",
        "  # Third Layer\n",
        "  X = Conv1D(filters = filters_sizes[2], kernel_size = 1, strides = 1, padding = 'valid')(X)\n",
        "\n",
        "  X = Add()([X, shortcut])\n",
        "  X = Activation('relu')(X)\n",
        "  \n",
        "  return X"
      ]
    },
    {
      "cell_type": "markdown",
      "source": [
        "**Method Name:** convolutional_block\n",
        "\n",
        "**Parameters:** keras.Input, list\n",
        "\n",
        "**Return:** keras.Input\n",
        "\n",
        "This function builds the convolutional block which is an element of residual blocks as in the figure below.\n",
        "\n",
        "This function accepts an keras tensor that hold the information of the previous block anda list that hold the details of the block to be created. Distinctively, this function also allows for defining stride sizes, and then, returns the final state of the tensor.\n",
        "\n",
        "![ResNet_ConvBlock.png](data:image/png;base64,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)"
      ],
      "metadata": {
        "id": "Rkx9i-eTaoNL"
      }
    },
    {
      "cell_type": "code",
      "execution_count": null,
      "metadata": {
        "id": "cCZBKg-4sdfU"
      },
      "outputs": [],
      "source": [
        "def convolutional_block(X: keras.Input, filters_sizes: List, stride: int = 2) -> keras.Input:\n",
        "  shortcut = X\n",
        "\n",
        "  # First Layer\n",
        "  X = Conv1D(filters = filters_sizes[0], kernel_size = 1, strides = stride, padding = 'same')(X)\n",
        "  X = Activation('relu')(X)\n",
        "\n",
        "  # Second Layer\n",
        "  X = Conv1D(filters = filters_sizes[1], kernel_size = 3, strides = 1, padding = 'same')(X)\n",
        "  X = Activation('relu')(X)\n",
        "\n",
        "  # Third Layer\n",
        "  X = Conv1D(filters = filters_sizes[2], kernel_size = 1, strides = 1, padding = 'valid')(X)\n",
        "\n",
        "  # Reshaping the input tensor\n",
        "  shortcut = Conv1D(filters = filters_sizes[2], kernel_size = 1, strides = stride, padding = 'valid')(shortcut)\n",
        "\n",
        "  X = Add()([X, shortcut])\n",
        "  X = Activation('relu')(X)\n",
        "  \n",
        "  return X"
      ]
    },
    {
      "cell_type": "markdown",
      "source": [
        "**Method Name:** residual_model\n",
        "\n",
        "**Parameters:** tuple, list , tuple, int\n",
        "\n",
        "**Return:** keras.Input\n",
        "\n",
        "This function concatenates all identity and residual block as super block as in the image below, and then, returns the final state of the tensor.\n",
        "\n",
        "![super_block 2.png](data:image/png;base64,iVBORw0KGgoAAAANSUhEUgAAAX4AAABxCAYAAADS+8idAAAAAXNSR0IArs4c6QAAAARnQU1BAACxjwv8YQUAAAAJcEhZcwAADsMAAA7DAcdvqGQAABg2SURBVHhe7Z15jBRFG8aL5QqCCwoqREI4jFxZbo1cRjECRuAPFYQAXhDAeCDiAkpABUUF4YvKtQhRriAaTTg0goFIWBQILCwEWDQcAQ/ABeVYYDnSXz81VbO9szPTPbN9Vc37SzozVd1dU9NP9dtvHV1VxTBhBEEQRMYQesNfpUoV8S0c1K5dm1WrVo1/v379OmvQoAErLi5m1atX53E3btxgJSUl/DvhPaSH3qiorwq+tBKG3+8sbtiwga1du5Zv3bp1Yzdv3mSNGjXiW8OGDSt8njp1iv3999/RT+v3rKwstn37djZgwAC+9e7dW/wK4RTSQ2900jcIe5UWMPxhxo8smh6EsXTpUuPJJ580atSoYfTp08eYN2+ecfLkSXFE5Thx4oQxd+5cwyyERs2aNY2BAwcay5YtM86dOyeOIKyQHnqjs74KmFRORnv8//33H5s4cSLbvXs3a9u2LfcQ+vfvz8zCKI5wn9LSUu7ZrFu3jh06dIh16dKFffTRRyw7O1sckbmQHnqTCfqSx+8SXmVx0qRJRr169Yy8vDwREwwLFiwwzEJovPXWWyImMyE99CZT9FXApHKyuPXPIGbOnMnbAevWrcv+/fdfNmrUKLEnGMaMGcPOnz8f7cSaPXu22JMZkB56Q/qGk4wx/EuXLmX169dnZ8+e5Z1Hpgci9oQD0wPh1VJ0UN15551sxYoVYo+ekB56Q/qGm4xo4x8+fDhr0qQJGz9+PLv99ttFbHj5559/2Jw5c3ih/PLLL0WsPpAeepPJ+lIbv0tUNovt2rUzli9fLkJqYRZCo2PHjiKkB6SH3mS6vgqYVI62hn/fvn383MLCQhGjJgUFBUbVqlWNAwcOiBg1IT30hvSNQIbfJdK5kPA4cnJyREh9bty4YbRp08ZYtWqViFEL0kNvSN8yVDH82nXufvbZZ/xNQNMDETHqY3ogzPRA2Jo1a9iCBQtErBqQHnpD+qqJVoYfhRCCmR6IiNEL0wNhe/bsYfPnzxcx4Yb00BvSV120MfwYjrVz5062cOFCEaMnixYtYlu3bmVfffWViAknpIfekL6KI5p8QouTLKJjSac2Rie0bt3aOHjwoAiFC9JDb0jfxChgUjlajONXZuysi2A62lq1avGpasMG6aE3pG9iVLk2yjf1tG/fnhUWFopQ5oDXzXfs2ME6d+4sYsIB6REuPdyG9NVDX6UNP94QzM3NZe3atRMxmUWnTp3YK6+8wp5//nkREyykR7j0cBvSVx99lTX8eLUar4UPGzZMxGQmzz33HLvrrrsCn2uE9IgQFj3chvSNoIu+yrbxYwKo33//XYm5QLzmzJkzLCcnh50+fVrE+A/pUUYY9HAb0reMZPpSG7+HYKrXkSNHUiEUYHZBeGKYaCoISI/yBK2H25C+5dFBXyU9fszvjalesY+IgNEGmGP82rVrIsY/SI+KBKmH25C+FUmkL3n8HvHmm2+yGTNmUCGMoXr16mzq1KlsypQpIsYfSI/4BKWH25C+8VFdX6U8fqzZ2axZM76SDxGfW2+9lc8rXqdOHRHjHaSHPX7q4Takrz2x+pLH7wFYqBkLJROJwfXBdfID0sMeP/VwG9LXHlX1VcbjxxJuffr0Ybt27RJ7iERgvPHPP//MsrOzRYz7kB7O8UMPtyF9nWPVlzx+l/n+++9Z27ZtRYhIRuvWrdn69etFyBtID+f4oYfbkL7OUVFfZQz/2rVr2YABA0SISAauE66Xl5AezvFDD7chfZ2jor6oloQamcUaNWoYpaWl/DtYsWIF3ye3/Px8sccfLl++bIwePdr2d4uKiozBgwcbxcXF5b67DfKB/CBfJSUlxi233CL2eEOsHkRi/NDDbUhf51j1VcCkcpTw+LHCz8MPP8zMwsjDK1eu5Is/mAaUt6fhc/r06Wzbtm18f1hp2bIlX9wBb0F6iVkIWdeuXdmmTZtEjLvE6kEkx2s93Ib0TQ3V9AVKGH5rtROdTjD6GD8rDSg+EUb8lStX+DZmzBje0YJNPhAOHz7MhgwZUmGfPN764MCDBA8YgHh5PI7D8VZkusgbwPE47o8//mBjx47lizgMHTqUz+4Xe1xsujIv+H25D98l1nOwWfNsxcvqJzUDpI5KzQGkb+qopC9QzvAXFRXxz1atWvFPSffu3flqQJgz++OPP+Zxly9fZvn5+eyll17ixhkcOnSI9ezZk9cUpk2bFl02DnGbN2/m32GYDx48yLp06cLPw/lIB+kBmb4deCB98sknbPDgwfwhUq9ePbEn8rBIlu6ff/4Zzf+3337Lj8eGPOMaIP+YKEo+7GLxsiCSYUgdlQwD6Zs6KukLlDD8MOqNGzcWIcaaNm3Kq1fxgBGE0cQUsngIYKjVAw88EB2Whpn1YNBBr169+CdAmvCeYfRhWOvWrctnI0QzEs5HOkgP6crjKoNdungQIR4POIwaAGgqQjUcnwB5TgT24X/u379fxLgD1iCN1YOwxys93Ib0TQ+pryooYfix+o2V48ePR73kWBCP/RIYz7vvvluEGJ9oqkGDBiJUBgzsbbfdxg0yPH9peK1pAZyL4yqLXbqJjLq1CahHjx4iNj64bkeOHBEhdzh69GgFPQhneKGH25C+6aPSdVPC8Ddq1Eh8K2vikU0+EjSDTJgwgRtEq9GUNQA70CzTpk0btmXLFnbx4sXo0zvWAOPBYPcKe6xRj0c66aJGgA3HoqkHzUDJwHXD6+RugvSsehDO8UIPtyF900el6xZ6w1+1atVyFxQGGs0i8Hxlswg+0YmKZeHg0cPDl23fBQUFbPv27Y6qYWj6GT16NLtw4QJv5gHwxHE+0kF6SBdVYdmxLEHfAR5GOAar8tvhNN1EyHOS4YWhiWcYrB3hsSBedlynAx7oskM80XenWGtLcpP5Rv6QTzxY0wHn2f1PL/RwG9I3Pk71hb1SgcAN/08//SS+xQfNLQ0bNhShCBghA+MP4wlx8Ykw4sEbb7zBP9EPgOaQefPmRdvFk4HaBF5Tl808AOfhfKQj+xVk+hIcgyXpcAyGdaHdXoK8wZNH3jDplcRJurEgXdQUkCZ+57HHHmPnz59P2OyVjqGx0+PUqVMV9PALXLPKDodF5zhqS9jwoF62bBk3Mn4QBsNP+noH9JV2Iyjs9I1iXqBAyc7ONmrWrGl88MEHIqY89erVM3744QcRIlJh/fr1xuOPPy5CzrDTw3zYVNDDvNn4C3WS/Px8/iKLWQMzzAdi9MUybPiOfdhwHDBvUP5iW+y+4uJiw3wQ8zA+zRoSP+63334rFz9p0qRyv4/v1rAE+cQmkfnBb1m/A+QJ+Ze/gbxIrPvkf8N58rtMy/pbIB093Ib09VZf2KsgsdNXErjH/+mnn/Lq0TvvvMOflh9++KHYE8HMY2AeiOqk42Ha6WHnEcK7ksNUf/31V95sJsFwVTTDQVPstxtmi5pQvOGwaM6zxvfr1483r6Eajq2wsNBR096JEyd4jSl2aDCaF9B0iFoc8oMmuMmTJ/O0sQ/XZvXq1Xwf/s93330nzowMLhg3bhyvgcbO1R4Gj5/09VZfnBMkdvpKAjf8zz77LC8ApaWl7OrVq+UyjFVusOGCEqmTjqGx0wPpJdMDHc+xw1QBbii0k8ohtNiP43A8SDTM1gnyxsZNiZsdyD6aWLB4hmz/xXkvv/xyhaYF5AkjrPr27cvDgwYNYseOHeNpm95gdKgvwM0vmxgBpumFgYMxiSUMhp/09VZfXMMgsdNXkvXuu+9GL1RQmywcQGYYAo4YMYKvb0kef3qgIJrVvrjXPNmWTA/cTMn0sBvRhD4N/AYKZ15eXvT4RMNsnYAbG54Zblq8r2FW03lhjwe8TXhl2GBI4HnKDkAJ/r91hBXyhfyBZP8P/+eee+7hHim8x1hi9cC9J7Heh17HP/TQQyKW9AVu6otpLuR1DmpLdv9Kst5+++3ohQpqsxYIXDjcHCioixcv5ivao/pJpA68Nwgf75on25LpgZsvmR6J3j8A8LJwvvW3rN5UZYAXuWbNGsfNAADGA94bxq5bwf+3vlOBG+ncuXP8e7L/N3r0aO4BY1Uma/OAJFYP3HsS633odTzmjpeQvu7qizV4rf8/iC3Z/SsJvKln6dKl/MksM4iqCZ5QWOsTcVjbMujqsarYVdvjYacH0kumBzxGeE3WYaoAXhvek/j66695GG2/HTp0SHt4XSz43X379pUbimsH8oe24+bNm4uYCLhx4BH++OOPPIw8YwlCpIt9slkAYAghNitoOsD87Gj+sJKOHm5D+nqrL+xVkNjpKwnc8L/66qv8jTdrBq2g6uKHxx/0GGAvSMfQ2OmBZoBkesAAoF1UDlNFWy9WJgIYroqX6XBtcSOjcy1eW6kVeZPGDoe1xuMGxO8iLXh4iZoBgLUNGPlDE0KsV4q00Lk4a9Ysfhz0e//993m6GHKINJB/7MP/iTe8Fx2S8+fPFzERwmD4SV9v9cU5QWKnbxSzahAoGzZsEN/iU6dOHWPJkiUi5B0YmoVNYlZZjd69e/NP8wlabihYquA8ORTMTz7//HNj5MiRIuQMOz1eeOEFX/RIFbO6zocCQq+wko4ebkP6egf0hb0KEjt9JYF7/KZxFd/iAy85WdXTK1DtQ/XP2lEikdVYPN0xMsBa5bPui+fly9pDbPXRC9LxMO30sGsKCAJc80ceeYR7YfDGwkoYPH7S1ztw3UpKSkQoGOz0lQRu+O24efNm0qqnV6CNz88xwF7ghaGxawoIAhiDvXv3VqjSh40wGH47SN/0gb6471Ug9IYf+OWBWNsHYfD9HAPsBV4YmjB6hKqgguEnfdNHpeumhOHPyvInm0GOAfYCXLcWLVqIkDsgPb/00A0v9HAb0jd9VLpuSuQUs1iePHlShPzB7zHAboNaCBbVyMnJETHugP6LIPRQHa/0cBvSNz2kvqqghOEPYlkzeOV+jgF2Gy+Xz1NtmbkwkKoeKDeytun3cGDSN3W8vN+8gAy/hSDHALuNlwWRDEPqVEYP9AnJ9aT9gPRNHS/vN08wQo7MYs2aNY2rV6/y70RyLl26ZNSuXVuEvIH0cE4iPfB+R66Y1tj6ngemHEa5x4bv8j0Qs5bIP/Py8qLTBmM/3j/Bd+v0wvLdE5mO9R0UeTw267srVkhf51j1xTVVAWV6I8gLcY4f3gfp4ZxEemAwwMaNG/kQX6tHj1omBhqYRj3uEEZMl4ApkU1jzoYNG8abIzEYAX1Msgky0RTJqKGiJorjsWGZUcTHQvo6x4/7zW2UMfz9+/dn69atEyEiGbhOuF5eQno4J5EeGDiA90FSfSlJTluAPiXMWY+hxQjD0AP0H8HAJ5oiWYJzZs6cGff3SV/n+HG/uY0yhh/t4hgnT9gDDw7Xy0tID+fE0wMdtdZF/VMh2egxK/GmSJbz3SAO+2KHK0tIX+f4cb+5jTKGH0MoO3fuzKvERGLmzp3LunXrxoeNegnp4YxEesiRX05nmkwV6APDjaYeuclmI3wijKYejFxD7SAW0tcZft1vbqOM4Qd483XixIkiRMQD1wfXyQ9ID3sS6YFmFxgLL0bqYORZoimS4eFbhxhjZk00GcWD9LXHz/vNTZQy/CikmEZhxowZIoawgg5BDB9FNd4PSI/kJNMDzS6x74hYwT503CZqirEj0RTJTzzxRDQe+cJqVon6GEjf5Ph9v7lJFbPKhyFIoQUFNDaL1apV4ysZYVFhIgKuB+YJwhzcfkN6VCRIPdyG9K1IIn3j2aswopTHL6EqaEWCrHKSHhVRtQkgHqRvRVTXV0mPH2AR9gMHDrA77rhDxGQumBUQHXF//fWXiPEf0qOMMOjhNqRvGcn0JY/fY+bMmcM3InItZs+eLULBQHqUEQY93Ib0LUMHfZU1/Oj4wpMXiwtnMkuWLOGTxg0ZMkTEBAPpESEsergN6RtBG33R1BNm7LLYsWNHo6CgQIQyi507dxr33XefCIUD0iNcergN6ZtcXwVMKkfZNn4rmTjqIMyjRkgPvSF9E0Nt/D6yb98+1q5dOxHKDPB/8b/DCOmhN6Sv+mhh+PGWIta31a1dNREDBw7kawDce++9IiZckB56Q/qqjxaGH2CWwgcffJCNGjVKxOjJyJEj2aOPPsqeeuopERNOSA+9IX3VRhvDD1588UU+J4mungg8j/vvv1+Zm4300BvSV2HQuRtm0sniqlWrjNatWxvXr18XMWpz9epVw6xmGt98842IUQvSQ29I3zIUMKkcLQ0/OHjwoFGtWjVj9+7dIkZNMIQMy+AdPnxYxKgJ6aE3pG8EMvwuUdkL2alTJ+OLL74QIbVYvHixduPCSQ+9yXR9VTH8WrXxx8P0QNiWLVv4pEpnzpwRseEGb0hOmDCBr6tqeiAiVg9ID70hfdVAe8MPTA+E5eTk8G38+PHs+vXrYk+4wEsir732Gp8AqmPHjsz0QMQevSA99Ib0DT8ZYfgB5ho5ffo0X5C6du3a7L333hN7wgEWdcCbgc2aNeOz/uk+Rpr00BvSN9xkjOGXvP766+zatWv8aY+l7+bPny/2BAPW7MSNcfPmTf46+NixY8WezID00BvSN5xoMVdPuly6dIm3Rf7yyy/8bcQBAwaw/v37e7qUWklJCVu7di1bt24dXwsVCzVjQQcVl29zG9JDbzJBX1Xm6slowy+5cOECW79+fbSAdO3alRdKbE2bNhVHpc+xY8d42th27NgRLfD9+vVTbnV+PyA99EZnfcnwu0QQF3LTpk3RgtOlSxd248YN1qhRo4QbRgUk2rKystiePXuiBbtXr17iVwinkB56o5O+ZPhdIugLuX//fnbkyJG4hQxby5YteRUyXgHF1qJFCz66gXAH0kNvVNeXDL9LqHIhCYIgVLFXGTeqhyAIItMhw08QBJFhkOEnCILIMMjwEwRBZBhk+AmCIDIMMvwEQRAZBhl+giCIDIMMvyKsXLmSjxHGNn36dBFLBAXpoTe660uGP4TgzUQsDHHlypVouLCwkF2+fDn6csi2bdv4J+E9pIfeZKK+2ht+CAZRO3TowJ/eeJKnC87F0196ApUpDKmkhdfUZ86cyWrVqsXDzZs3558qQnroDemrBkobfuuTGkJKUWOFxWyAWFatuLiYbd26lZ09e1bsiU+ytAC8gKKiIrZmzZqol5AIa2Hr27dvhd+2pgUvAzdMq1at2KxZs/jUsWPGjCn3GyjAR48eZd27d+f5QvphgfQIlx5uQ/rqo6+yhh/iLFmyhI0YMYJXyZYvX84LGoTNz8/nAknRe/bsyZ/e9evX509zHJcInJMsLTnbX5MmTfgUr/jtRMgCjHSwofBYF6KITatx48Zs7969vGDm5ubytBcuXBj1PGShmzJlCv9EeiD2RgkC0iNcergN6auXvsoa/oKCAi4eChYKGATDJ8ATHEBQAK8DBReFCV5LgwYNeHw87NLavHkz/zxx4gS7ePFi0gUdUFBkoQEoeCg0slA7TQt5hyeC84cOHSpiIwwaNMiRJ+Q1pEeEsOjhNqRvBF30VdbwQ0QIEw/pPcgCl52dzRd7QHj48OHRQuaE2LQAqpFPP/00936kd+CE48eP84UmrAUuXlq4uaxtjLjp8vLyWI8ePaLVWOl1wHsBKMxBQnqESw+3IX310ldJw4+nLZ7Y1sIhwb7//e9/7JlnnuGCgvbt2/MqHQqUrK45IV5aKPxIB+nJOCfA81m2bBkbN25ctIA5TQt5xnHWTf4PpAVPDDdMUJAe4dLDbUhf/fRV0vCjLe7kyZMiVAYKDoTGyv6xVbRUcTMtFEJ4GVOnTk2p8KoC6aE3pK+GmE+zUBMvi2ZBNHJzc42ioiIRYxjmE9jo06ePsWLFChGTPm6mlZ+fb5geULm8us20adP47wQF6VGeoPVwG9K3PMn0VcCkcpT0+GOrW/AWJk+ezNsT3fA83EoLnodZSNjq1as98zyQ30TVcL8gPcoIgx5uQ/qWoYu+ynbuor3O2ku/fft2NmzYsGhnjLVDJh7yhY5Y3Exr165dbOPGjXykgkwn3tjiyiA7mWSnU1CQHhHCoofbkL4RtNFXeP6hJVEW41U/UwHVy0WLFolQ5XAzrVQJS7MC6REhLHq4DekbwU5fBUwqR1mPH9VPDMnCSyWofqWKWYBZmzZtRKhyuJlWKkivKJWRE15BeoRLD7chffXStwqsv/geSlBdC3kWCYIgOKrYK2U9foIgCCI9yPATBEFkGGT4CYIgMgwy/ARBEBkGGX6CIIgMgww/QRBEhqHEcE6CIAhVUGE4Z+gNP0EQBOEmjP0f4+jYIkRlH2cAAAAASUVORK5CYIIABXuwqc1mYtoFtna8bGZNVAQQQAABBBBAID8BCvb87EvZs3aBrR2vlKgMGgEEEEAAAQQQaCFAwc7ukUhAu8DWjpdoMjRGAAEEEEAAAQRKIEDBXoIkFWmI2gW2drwiWTEWBBBAAAEEEEBAQ4CCXUOxQjG0C2zteBVKBVNFAAEEEEAAgYoIULBXJNFa09QusLXjac2TOAgggAACCCCAQFEEKNiLkomSjEP7Sacybc0HMZWEkWEigAACCCCAAALWAhTs1lQ0FAHtI+La8cgSAggggAACCCAQmgAFe2gZzXg+2gW2dryMp094BBBAAAEEEEDAuwAFu3fycneoXWBrxyu3LqNHAAEEEEAAAQQWFKBgZ69IJKBdYGvHSzQZGiOAAAIIIIAAAiUQoGAvQZKKNETtAls7XpGsGAsCCCCAAAIIIKAhQMGuoVihGNoFtna8CqWCqSKAAAIIIIBARQQo2CuSaK1pahfY2vG05kkcBBBAAAEEEECgKAIU7EXJREnGoV1ga8crCSPDRAABBBBAAAEErAUo2K2paCgC2gW2djyyhAACCCCAAAIIhCZAwR5aRjOeD086zRiY8AgggAACCCCAQJ0ABTu7RCIB7SPi2vESTYbGCCCAAAIIIIBACQQo2EuQpCINUbvA1o5XJCvGggACCCCAAAIIaAhQsGsoViiGdoGtHa9CqWCqCCCAAAIIIFARAQr2iiRaa5raBbZ2PK15EgcBBBBAAAEEECiKAAV7UTJRknFoF9ja8UrCyDARQAABBBBAAAFrAQp2ayoaioB2ga0djywhgAACCCCAAAKhCVCwh5bRjOejXWBrx8t4+oRHAAEEEEAAAQS8C1Cweycvd4faBbZ2vHLrMnoEEEAAAQQQQGBBAQp29opEAtoFtna8RJOhMQIIIIAAAgggUAIBCvYSJKlIQ+RJp0XKBmNBAAEEEEAAgSoIULBXIcuKc9Q+Iq4dT3GqhEIAAQQQQAABBAohQMFeiDSUZxDaBbZ2vPJIMlIEEEAAAQQQQMBOgILdzolW/yegXWBrxyNRCCCAAAIIIIBAaAIU7KFlNOP5aBfY2vEynj7hEUAAAQQQQAAB7wIU7N7Jy92hdoGtHa/cuoweAQQQQAABBBBYUICCnb0ikYB2ga0dL9FkaIwAAggggAACCJRAgIK9BEkq0hC1C2zteEWyYiwIIIAAAggggICGAAW7hmKFYmgX2NrxKpQKpooAAggggAACFRGgYK9IorWmqV1ga8fTmidxEEAAAQQQQACBoghQsBclEyUZB086LUmiGCYCCOQm0KdPHzNx4kS1/nv37m0mTJigFs82kPY8bPvNa76246MdAnkIULDnoV7iPrWPiGvHKzEtQ0cAgUAEtNc17Xi2zFXr19aFdgjkIUDBnod6ifvUXsC145WYlqEjgEAgAtrrmnY8W+aq9WvrQjsE8hCgYM9DvcR9ai/g2vFKTMvQEUAgEAHtdU07ni1z1fq1daEdAnkIULDnoV7iPrUXcO14JaZl6AggEIiA9rqmHc+WuWr92rrQDoE8BCjY81AvcZ/aC7h2vBLTMnQEEAhEQHtd045ny1y1fm1daIdAHgIU7Hmol7hP7QVcO16JaRk6AggEIqC9rmnHs2WuWr+2LrRDIA8BCvY81Evcp/YCrh2vxLQMHQEEAhHQXte049kyV61fWxfaIZCHAAV7Huol7lN7AdeOV2Jaho4AAoEIaK9r2vFsmavWr60L7RDIQ4CCPQ/1EvepvYBrxysxLUNHAIFABLTXNe14tsxV69fWhXYI5CFAwZ6Heon7lAVc+zV//nztkMRDAAEEchPQLnS149nChNwvT3G13QtoVxQBCvaiZKIk49BewLXjlYSRYSKAQMAC2uuadjxb+pD7DXlutvmlXbkEKNjLla/cR6u9yGnHyx2IASCAQOUFtNc17Xi2CQq535DnZptf2pVLgIK9XPnKfbTai5x2vNyBGAACCFReQHtd045nm6CQ+w15brb5pV25BCjYy5Wv3Eervchpx8sdiAEggEDlBbTXNe14tgkKud+Q52abX9qVS4CCvVz5yn202oucdrzcgRgAAghUXkB7XdOOZ5ugkPsNeW62+aVduQQo2MuVr9xHq73IacfLHYgBIIBA5QW01zXteLYJCrnfkOdmm1/alUuAgr1c+cp9tNqLnHa83IEYAAIIVF5Ae13TjmeboJD7DXlutvmlXbkEKNjLla/cR6u9yGnHyx2IASCAQOUFtNc17Xi2CQq535DnZptf2pVLgIK9XPnKfbTai5x2vNyBGAACCFReQHtd045nm6CQ+w15brb5pV25BCjYy5Wv3Ecri5z2iyedaosSDwEE8hTQLga149nahNxvyHOzzS/tyiVAwV6ufOU+Wu1FTjte7kAMAAEEKi+gva5px7NNUMj9hjw32/zSrlwCFOzlylfuo9Ve5LTj5Q7EABBAoPIC2uuadjzbBIXcb8hzs80v7colQMFernzlPlrtRU47Xu5ADAABBCovoL2uacezTVDI/YY8N9v80q5cAhTs5cpX7qPVXuS04+UOxAAQQKDyAtrrmnY82wSF3G/Ic7PNL+3KJUDBXq585T5a7UVOO17uQAwAAQQqL6C9rmnHs01QyP2GPDfb/NKuXAIU7OXKV+6j1V7ktOPlDsQAEECg8gLa65p2PNsEhdxvyHOzzS/tyiVAwV6ufOU+Wu1FTjte7kAMAAEEKi+gva5px7NNUMj9hjw32/zSrlwCFOzlylfuo9Ve5LTj5Q7EABBAoPIC2uuadjzbBIXcb8hzs80v7colQMFernzlPlrtRU47Xu5ADAABBCovoL2uacezTVDI/YY8N9v80q5cAhTs5cpX7qOVRU77xZNOtUWJhwACeQpoF4Pa8WxtQu435LnZ5te2XZ8+fczEiRNtm6u16927t5kwYYJavLIHomAvewY9j197kdOO55mD7hBAAIEFBLTXNe14tikLud+Q52abX9t2WNlKZduOgj1b3+Cia79xteMFB86EEECgdALa65p2PFvQkPsNeW62+bVth5WtVLbtKNiz9Q0uuvYbVztecOBMCAEESiegva5px7MFDbnfkOdmm1/bdljZSmXbjoI9W9/gomu/cbXjBQfOhBBAoHQC2uuadjxb0JD7DXlutvm1bYeVrVS27SjYs/UNLrr2G1c7XnDgTAgBBEonoL2uacezBQ2535DnZptf23ZY2Upl246CPVvf4KJrv3G14wUHzoQQQKB0AtrrmnY8W9CQ+w15brb5tW2Hla1Utu0o2LP1DS669htXO15w4EwIAQRKJ6C9rmnHswUNud+Q52abX9t2WNlKZduOgj1b3+Cia79xteMFB86EEECgdALa65p2PFvQkPsNeW62+bVth5WtVLbtKNiz9Q0uuvYbVztecOAVmtD7779vFltsMbP00ktXaNb5TVUeWPbqq69GA1hnnXWMvBd56Qhor2va8WxnGXK/Ic/NNr+27bCylcq2HQV7tr7BRdd+42rHCw68QhP6wx/+YG666SZz3nnnmeWWW65CM89nqvLkwttuu818/PHHZo899jADBgygaFdKhfa6ph3Pdpoh9xvy3Gzza9sOK1upbNtRsGfrG1z0LI7CyZE+Xgg8+uijRor2GTNmmOHDh1O0Z7hLfPrpp+bmm2+OivSuXbuaCy+80Hz729+maFcy1y5wtOPZTjPkfkOem21+bdthZSuVbTsK9mx9g4uu/cbVjhcceIUmdNVVV5kddtjBvPPOO+auu+6iaM8o92J79dVXm3nz5plRo0aZDTbYwHz22WdR0b7eeuuZ/v37Z9RzdcJqr2va8WwzEXK/Ic/NNr+27bCylcq2HQV7tr7BRdd+42rHCw68QhP68ssvo1My5J9JkyZRtGeQ+2nTppkHH3zQ/OxnPzPvvfeeOeOMM8yJJ54YFe2zZ882X3zxhenWrVsGPVcrpPa6ph3PNhsh9xvy3Gzza9sOK1upbNtRsGfrG1x07TeudrzgwCs8ISnaJ0yYYE499VSz6KKLVlhCZ+py6tm9994bfRG68sorzbLLLmtef/31TkW7Tk9E0V7XtOPZZijkfkOem21+bdthZSuVbTsK9mx9g4uu/cbVjhcceIUmJEd/5bXmmmt2zFpO21hkkUUqpJDtVOOi/YknnjBnn322WXLJJY3cnWfhhRc2yy+/fLadVyi69rqmHc82FSH3G/LcbPNr2w4rW6ls21GwZ+sbXHTtN652vODAKzKhqVOnmpEjR0bnra+xxhoVmbX/acqXIinan3/+eVNbtPsfSdg9aq9r2vFs9UPuN+S52ebXth1WtlLZtqNgz9Y3uOjab1zteMGBBzghKRgfeeSR6AjvTjvtZH75y1+acePGmW222YZiPcN8134pWn311aOCfd111zUrrbRShr1WM7T2uqYdzzYrIfcb8txs82vbDitbqWzbUbBn6xtcdO03rnY8TfC5c+eaN954w6ywwgpmqaWW0gxd6Vhieuedd5ojjzzSPPDAA2bKlCnmhBNOiE7P4KUjwJciHUfXKNrrmnY823mF3G/Ic7PNr207rGylsm1HwZ6tb3DRtd+42vG0wOWOGfIAn08++cS88sor0b/LnTR4pROQO5MMGTLE7LnnnmbQoEHR6RlyIeSLL75I0Z6OttPWfClSxHQIpb2uaceznVLI/YY8N9v82rbDylYq23YU7Nn6Bhdd+42rHU8DXI6sy+kC//rXv6Ki8q233orupDF06NDURfv2228fPRyoqC85fzy++DOrMcqpGSNGjIhM5ZQMKdofe+yx6ME97c5fx699VjS+FOHc3rlVC+11TTue7exC7jfkudnm17YdVrZS2bajYM/WN7jo8sbVfhXtSaezZs0y55xzTnTXjOOOOy66L3hctMs9q6XIdHnFcVy29bHNKqusEnXjIx/1RbvN/PCzUfqqTZovRTjbOzdrqV3gaMeznWHI/YY8N9v82rbDylYq23YU7Nn6Bhdd+42rHU8LPC7aN9poI7PffvtFRfvnn39uunTpEv2T9FWGIujjjz+OztXPqmCfOXNmdPqLvHbffffowT2jR482w4YNM0svvXRLUvyS7nELFu02EXC2UWrfRntd047XfgZftQi535DnZptf23ZY2Upl246CPVvf4KJrv3G142mCNyraXeKXpQiSuWVVsL/77rvREzXlVAv59+eeey56eE/37t3bkuLXlqijQRW+FGW5n9pLt26pva5px7OdZ8j9hjw32/zatsPKVirbdhTs2foGF137jasdLy34O++8Yy6++OLo7jCHH3646dWrl3nqqafMdtttZ7p27Zo4fJmKzawKIXn4kZxiJMW6OMp/y1H1Pn36mJ133rmlKX72u1xVvhRltZ/aS7dvqb2uacdrP4OvWoTcb8hzs82vbTusbKWybUfBnq1vcNG137ja8dKAS8Fz+umnm3333Te6xaAUmaeddprZYostnMKWrdjMqhCSU4nE8b/+67/MpptuGlnefPPN0Z/7779/U1v87He7Kn0pymo/tddu37J+Xfvwww+jfX38+PFNN+7bt2/0vmj0xNm81smQ+w15bu330GQtsErmlVVrCvasZAONq/3G1Y6Xhl2OrK+//vpm11137Sgq5TxrufA06auMxWaWhZDcd13O/d9rr70aFuxScC6yyCIdzPgl2+Oq9KUoy/00mXrz1rbr2meffRatL9dcc40566yzol+eGr1s42mNP44Tcr8hz439QFugGPEo2IuRh9KMQnuR046XBlIKdrmtYL9+/aIwTz75ZHS7wWYfos36Kmux6bMQkgJl7bXXjk6Jkdtcjhkzxvz61782yy67bMddedLkMstt5W46coFuo1dW1wDYzKcqX4p87qc27q4F9ssvv2wGDBgQbX777beb9dZbr2l3ea2TIfcb8txc99tWn2lZ3Yyg1VjzypG2n1Y8CnYtyYrE0X4DacdLkwZ5QNKrr75q5KdpGVd9wS4X9ElBJn8XYrHusxA6++yzzQ477BCdzz5y5Ehz0UUXRQVLmb/s+PSz2c9D/VJUNGeXgl32fzn9rtVR9dq4ea2TIfcb8txs1ockbbBKopVdWwr27GyDjKz9xtWOp4k+duxYM2PGjOjc60mTJpnLLrvMXHLJJWa11VZr2E3Zi02fhZAULHPmzDGTJ08Oplj36Wezn4f6pahozkkK9iRH1SnY59vs5s5t8vrsyatfZ6jALz5O4+J7Wwp23+Il76/V0WXXqeXxU5vNWOMLI1ddddXozjHnn39+04cmhVCs+yyExPaqq66K7sMewpH1eH/K85SY+n061C9FPvdTm3XCtmBPelSdgp2C3XX/094ury8ZefWb1O+hhx6K7iYnB6DkTnPTp0+Prod76aWXzMorrxz9s/nmm5sf/OAHHdfIJe1D2lOwu6hVeBvtN5B2PM3USFEpR9lnz55diWLdZyH073//O3oQ1be+9a3SnwZTu88VqWAP9UuRz/3UdT2pX9e4S0wySR+fCz76sP0yl0zHf2usFjR/4IEHogNO48aNi06jHThwoFluueXMSiutFBXo8mdcvEsBL595t9xyi3n00UfNHnvsYQYPHmx22223RMmkYE/ERWPtN652PM0MybflM888MzplY911120YOpQj63kdIcZPc4/tHCvUL0VlLNjTZjmvdTLkfkOeW9r9rX57rL4Wefzxx81JJ50U1QQ/+clPoqd2197hrJ393LlzowOB8tTvadOmRddwyZF3mxcFu40SbToEtN+42vE0UyVvLDkK/M1vfrMSxbrvQii0Yt23n+2+jrOtlF477XVNO57tTEPuN+S52ebXth1WX0kddthhZurUqea8886zLrJbGT/xxBPRE8B79uxpRo0a1TYdFOxtiWhQK6D9xtWO5ytbIRZBPgtO/PzsqTj7cW53RFJOiTn11FPNiBEjogcjycWn8nP68OHDzeKLL27q/75dPF+zymt99tGvjz4a5SmvftPsM3mNOa9+663efvvt6KF/d9xxR3R3M+3X//zP/0QPVnvxxRfNiiuu2DQ8Bbu2fODxtN9A2vF88IdaBPkq2PHzsZd+9Vj5t956y09nDr20up99u3BFulbApiijYG+X0c5/7+NzwUcfNvtGMpl8WlfZ6oUXXojONZdiutFTiLUyIg9plC8FUrxvvPHGDcNSsGtpVySO9htXO17WaQi5CPJRsOOX9R76VXycs3WWC8fkoV/NXvXrGgV7snz4+Fzw0QcFe7K817fOK0fxOKRYl1NWHn744XQTSbD1LrvsYi644IKGRTsFewJImn5VCGjehlE7XpY5Cr0Iyrpgxy/LvfPr2Dhn77z00ktHd4+Si9LlArR2hQYFe7Kc+Phc8NEHBXuyvLd7H6WLlmxrOQ1myy23zOVXSjkt5q9//avp0aNHp0FTsCfLYeVbay9y2vGySlAViqAsC3b8stozO8fF2Y/zDTfcYI488sjoSb1ifsYZZ3Qq3DnCni4PPj4XfPRBwV78/aDZCFdYYYXoWpMsT4Np1ve7774bXYgqt4WsfVGwp9ufKre19iKnHS+LhFSlCMqqYMcvi71ywZg4+3GOe+nevbv54IMPov/s2rVrR+E+dOhQs9hii3X6JZL7sCfLjY/PBR99ULAny3tRjrDL3WAGDBiQyQWmtiJy2t19991nrrzyyo5NKNht9WgXCcgip/3SPMVGe2xrrrmmef3117XDqsVbffXVzd/+9re28c4999zoqWty39i99tqrafsf//jHZtKkSW3j2TYIyU/uv7vNNtuYgw8+OHowRqOXtl8VnWVfLetr0UUXNfvuu68ZM2ZMEKcOhlzUhjw37fdPlaxknZc7Ov3hD3/QZkwcT+7PfuGFF5rvf//7X9Vf84tcLSWeHhtkLaD9xtWOl3T+SS8eSxo/6/bi9/HHH1t1Iw9qkG/s8qcU7fXFexZ33sg7v+1gkvjJPXPln+9+97tGLgyS11133RXdhksKeTmvOa/lNCTndjnLYj9t12ejv689wi5H1ONTY+QIuxxxr90X2t22sV3/eeU35H5t5yZ5lDVWnstR+1p44YWj97z8meRl22+SmFm3zWvMefS79dZbR082t32YUZb28qVh2LBhHQfRKNiz1A4wtvYbSDteUvKkF48ljZ91+yQFZ+1Y6ot3+e8sis2889vO39Uvjnv33Xeb//7v/zZyVGbKlClmww03bNdlJn8funOMVpRiPT6HXYq4uFA/+eSTO3Jbnw8K9mS7vY/92bYPWRflLiHXXHON+X//7/91/Mosnx2DBg1q+mC9ZjO27TeZWLatk4z52muvjQ5syJdY+aKz7LLLmiFDhphNNtkk8SCT9Js4eIMNHnzwQXPnnXea66+/XiOcSowDDjgguke7HCSiYFchrU4Q7TeQdrykmUh68VjS+Fm3T1twyvikCOrfv3+0UMmf8T8aY887v+3moOUnH+qffPKJ6datW9Tld77znei0me233z66IDHJo6vbjbnR31fJ2cVHexsp1uQpyHKXmNpCPe6Hgj2duI/9OUkf8v6+9dZbTa9evcx6662XanJJ+k3VkeLGScZ8//33R+d+y1r4yCOPRHdakaLd5ZWkX5f49dvIL88HHnhg9OtzUV7yK+7tt98efT5TsBclKyUZh/YbSDueC2OSi8dc4me5TdqCs/6IpSwK8T+2xfvFF19s1l13XSPnb9e/ipDfVv7afrV9yc+Zcj3ACSecYL7xjW+Yzz77zIwcOdL06dMnKuSTvuSewHLngCoW7EU5sh7bSyHywx/+sGkKGxXscpRs/PjxTbfp27evufnmmxvelSKv91HI/YY8t6RrS7v2Sazk80Per3LA4umnnzZyhFie5uvyStKvS/z6bbp06RLdrjXrAyxJxirjiQ8QULAnkaNtJvdhLyJrVhePac81TcHZrgiyLd6lCD399NPNjTfeGF1ZX/vyveAm9c3Sr34sX375pTn77LPNhAkTonv7vvLKK1ET+dlYjkbJWFq95J68cvRHzq+s0hejdvtp0pz7aF/FI+zPPPNMdE2HfDlda621okJNCiCXl491w7UPOYK86qqrRkfbXV6u/br0pbVNkjHLOjd16tRojevdu3d0aozrK0m/rn3E2z300EPRHVnktJiiveTLvFwbQ8FetMwUfDzabyDteC58SS4ec4mf5TauBWfSIqhV8S7ncQ8ePDg6B/43v/lNp6K9CPlt5e/Lr9UY5MNto402Mtttt505/PDDo7uMNHrJT8vSVo7Qjxs3rlMTnLN8lyWPXZaCXfOie7kORgqLJZZYIjrnW/ZX13tYa+zPmnOr3QPkVxC5+5VcnOjy0pibS7+tttG2kvuXy13J9txzz1RD1bRqN0e5uHP99dePzhcv2ksOhr322msU7EVLTNHHo/kGkrlqx0vql/TisaTxs27vUnAmLdbr51BfvMsH8/Dhw82sWbOin0Jri/a889vOPw+/ZmOS02fkQRnxrxRjx441kydPjgp0OVIl58KfddZZUUG02mqrRR+I8Qvndpn2+/dlKdg1L7q/6aabojVAToX44x//aHbaaafojkryAJqkL439WXNuteOX2/wuueSSTvMqwmdeo1xoW8k6Nn36dLPZZpslTX1mByLazXG33XYzRx99tNl1111TjTmLjR944IHoomeOsGehG3BMjYW0lkc7XlL6pBePJY2fdfukBWfaYr1R8X7LLbcYOXohH9byqi3a885vO/+8/VqNTz705MuPnEIjBbvcZmy//fYzcscReclpNG+++WZ0fiPO7TLt9+/LUrBrXnT/6aefRuf/1r5kH3U5JUJjf9ac25NPPhndujV+yV1QQjrCrmkla9IVV1wRneonBx/keh3Jp8tLYz+I+203x80339yMHj069ZcMl3m220YO3MjDnCjY20nx95l945XAmm9Il1QlvXjMpY8st0lScGoX6zKvmTNnGjmlaM6cOZ2mKUeg5Kj78ccfn8ntIrVM8/ZLMg+5rZfcPvI///lPx2ZyrcWf/vQnIx82WdyWM8n4WrUtk7PGnMtSsMtcNS66l1MgpDiLL4yWu1rEd1NxuaWl1ueCxtzqx+8yn9p9SmtuGvtpbQwNK4l32223RUep5fPmnnvuiQ425HlqlO0c5SGEzz//vFlppZW0aVPHk18r5JoJCvbUlNUK4PpNuZVS0QuNoo/P5sFJWRTr8tPwOuusY+bNm2eWWWaZ6M8vvvgiutBMzvGUIwLHHHNMEIVkFn5JVg6504wctZJbCcpLvhDFryOOOMJccMEFOCcBzbhtFgV7xkPuFD7JRfdy96PjjjvObLvtttH5v/HRaDlFRv7bpcDN4nMmnmCSucXbyL3F+/XrFxWeMp9Ro0ZFByNc7n5SOze5Laic6iYvOcAh/y2vtP9fYjSKm3QfcrGSC4+/9a1vmVVWWSW6K5KcaiIXzLv+0pJ0zEnbx3OUXwbk18yivuTUSAr2omanoOPSPjqgHU+brQzja1ewZ1FsSnEut3OUc1XlPEW5reO3v/3t6E85RSN+4Zd+j5S7wsi561Ksy7nr8lO83FJQHlct5vLCOb2zZoRGBXtRb+uY9qL7RgW5/D+Zr9wpRn4Zkke9jxgxwvpIq9b+nHZusk/Ec2l0S85Wt+Jstj9pzU1zf5VYGlYjvrhLAAAgAElEQVQSRy6Mf/fddzsNb+ONN3Y651/bqtUc11hjDY6wa+9UxMtXQPsNpB1PW6cM42tVsGdRrCcxxi+JVuO2//rXv8zf//73qEBvdkQP5/TOmhGyOMKexS99Ghfdx0fYpTivPa87LnSlqJVTZnwX7Bpz09wninwQQ8uqqKdGiX27OXIOexZ7OzFzFdAuDLTjaeOUYXzNCva8i/WyH/ktgp/t/sx+aivlp11ZCnati+5rj6jX3xZPnj0gp8k0eyhUo4xo7M9ac9PeYzTmpj0mDausTo3S+qLabo4/+tGPzJAhQ6JTeIr2ktv4ymlZnBJTtMwUfDzai412PG2+MoyvUcFelGITP+09snE8nP042/ZSloK9qBfda+zP2nPTOnqsMTfb/dC2nYZVkU+NEod2c5T7sMuF0oMGDbJl89aO+7B7ow6rI+3FRjuetnYZxldfsBelWC/rEfYi+dnuz+yntlJ+2iXJR1wIyt0pmh2FThJPc4Yh95tkbppHj5P0q5nLNLFsxlzUU6Ns5/273/3OXH755UaeeFq0l1yzJDce4Ah70TJT8PHYvHGTTEE7XpK+bdqWYXy1BXvRik38bPay9G1wTm+oGaFdPmqP1kq/8R1Vmo2hXTzNsdfGCrnfJHPTPHqcpN+s8po0ru2Yi3hqVJK5yh1j5IuH3OmsKC+52cCyyy4bjYuCvShZKck4bN+4ttPRjmfbr227MowvLtiLVqyLMX62e1q6djin89PeulE+aot0ueWp3GVJbse5ww47tH0IT175DbnfJHPTPHqcpF/t/dI1Xl5j9t3v3nvvHd3dSG7hWZTXHXfcYe6++24jzzagYC9KVkoyDu03kHY8bcYyjE8K9iIW62Uq2IvqZ7s/s5/aSvlpV5+PZvcilwsyKdgXzImP/TlpH1pHj5P262ePbd1LXmP23a+cDnPrrbeaMWPGFIE9GsPAgQPNQQcdFN3Kl4K9MGkpx0C030Da8bQVyzA+mbPWlfT4aQv4icd+6sfZtpdG+ai/n7ecBvPaa69RsDdA9bE/++ij0f6SV7+2+26RxpyHlTwA7NxzzzXbbLNNGjKVbSdOnBg9UCt+oBMFuwprdYJov4G042lnQp4uJm+aor7kYQ/Tpk0r6vAMfn5Sg7MfZ9tebNY1ucC09o4UTzzxRNNTY2zi2Y4tSbuQ+w15bklybNO2SlbyMEC5wFNuRZr363vf+150IexWW20VDYWCPe+MlKx/eeNqv4p6dFh7nsRDAIFqCCQtcKR4l5/huUvMV/tHUj+XvcpHH43GlVe/LkbxNnmNOa9+jzzyyOg89p122ikNW6ptH374YfPAAw+YK664oiMOBXsq0uptrP0G0o5XvYwwYwQQKJpA0nWt2TnuVS2Ykvq55N9HHxTsLpn5epu8ciQjWHHFFc1f//pX06NHj3STcNj67bffNltuuaV56623Om1Nwe6AWeVNtN9A2vGqnBvmjgACxRBIuq5RsHfOW1I/l6z76IOC3SUzxSjY3333XdOzZ0/zzjvvpJuEw9YrrLCCkbtKLb/88hTsDn5s8n8C2oucdjwShQACCOQtkHRdo2CnYM97n23Vf9L9WWsuefUbj/9vf/ubOf74442cnuLr1bdvX3PJJZeYDTbYYIEuOcLuKwuB9KP9BtKOFwgz00AAgRILJF3XKNgp2Iu8uyfdn7Xmkle/teOXon3HHXc0L774YnSaTFYvOQ1m0003NY8//njDYl36pWDPSj/QuNpvIO14gbIzLQQQKJFA0nWNgp2Cvci7d9L9WWsuefVbP/733nsvKqblwvCdd95Za3odceQI/uDBg6MvBfWnwdR2RsGuTh92QO03kHa8sPWZHQIIlEGgfl2rvwd7oznIT+HcJeYrGR+fCz76aJTnvPpN877Ja8x59dvMSu4e85e//MWcd955ZrvttktDGm0rt4w+8cQTowtMa+8G0ywwBXtq8moF0H4DacerVjaYLQIIFFFAe13TjmdrFnK/Ic/NNr+27bD6Wuqpp54yJ510kll99dXNnnvuaXbffXfTtWtXW0rz+eefm7Fjx5p77703uqB15MiRHfdZbxeEgr2dEH/fSUD7jasdj3QhgAACeQtor2va8Wx9Qu435LnZ5te2HVYLSslpLKNHjzbjxo0z22+/vdl///3NcsstZ1ZeeWXzrW99K/pz+vTpRs5Nl38++ugjI083lnPU99hjD/Ozn/3MyK9qSV4U7Em0aBv9VKn94sFJ2qLEQwCBPAUanRJz6qmnmhEjRrQ8R7XZmKtWMPmYr48+GuUzr37TvB/yGnNe/Sa1euSRR4w8IXXy5MkdRfp6660X3ZpRinf5Z/PNN4+eZJzmHHgK9qSZqXh77TeQdryKp4fpI4BAAQTaFezyQS5H54YPH24WX3zxtiPOa50Mud+Q59Z2h0rYAKuEYBk1p2DPCDbUsNpvXO14obozLwQQKI8ABXu6XPn4XPDRB0fYi78fpBuh360p2P16l7437UVOO54P4EcffdSss846Zu211zZTpkwxv//9781hhx2W6MKT+nG+9tpr5tVXX7X6uWzGjBnm7LNHmF5b9DID99vXvPLKP8wbb7xhdtxxhwWmL6cbPffc8+aee+413//B902f3tub6667IRrrIYcM9sG1QB/4+WHH2Y+zTVFWf9tGjrC3zo2PzwUffdjsG/ntpfY9Y2VvlWVLCvYsdQOMrf3G1Y7ng/z+++8366+/vpkzZ4556KGHzJAhQ8ySSy5p5s6daz755JPo37t06WI+++wz8+WXX5pFF13USOH8xRdfmMUWW6zjJ/BPP/3UzJs3zyy11FLm73//u3nppZeiq87j1wcffGDGjXvAzJgx02y44Qamb98fRn/173//21x77WhzzDFHmcmTnzM33jjG7LLrLqbfXj9ZYPoffvhv8+CDD5mBA/c19957n1l33W9HV7ePHfeAOejA//LBtUAf+Plhx9mPs01Rxm0dk+XCx+eCjz5s9o1kMvm0xiof9/peKdiLkYfSjEL7jasdzwekFEJSfMv9WOVCsiWWWMK8//775uqrr47up/rss8+avffe21xwwQXRvVrlaPxtt90WHT1/+umnzRFHHGGee+65aJtvfOMb0T+bbLJJdIFKXLDPmjXL3HHHnWbffQcscI5rbcE+e/Zs895775tX/vEP86Pddm06/alTp5rf/W68GTRoYPRlIu+CHb/s91T20+yNm/Wgva5px7OVCbnfkOdmm1/bdljZSmXbjoI9W9/gomu/cbXj+QCXh5u8/vrrUSEtV37LLZ2efPLJ6J+tttrKSHHcrVu36DZO8qCFf/zjH1ERL7d9kiJqzTXXNPfdd19U3EvxLA9P6Nevn3nrrbc6CvbX/vlPc9Woq6Ory+XV7Ai7jEHiv/z3V5oW7HJ0f+bMmeahh34XfXmQo+x5Fuz4+dhLTfQQHvZTP9YLHAlbaKHoVzWtV17rZMj9hjw3rf0ujoOVtqhbPAp2N7fKbqX9xtWO5yMx8akGcp9VOYouRfm0adOie61K8S7FsZwu84c//MEccsgh0ZHz+HQX2XattdaKznuXo/BydF0Kezk15pVXXuko2OVUFmnTv/8+C9xKs/YIe7uCXY7iv/baP833vreV+fvfXzHPPPOM2W23XXMt2PHzsZea6MuhnLrFfurHu7YX7XVNO56tSMj9hjw32/zatsPKVirbdhTs2foGF137jasdzwd4XAjJfVblaLo8DOHYY4811157rVlllVWii0cHDhxonnjiiYYFuxRR7733XvT3cvGnHHHfcMMNO50SI0fnHvrdw+bFF16MinrbI+xyms5bb0/vONou59Vff/2NZt6X88y0f04zhx12qFlqqW6FKNjxy3ZvZT/N1rdVdO11TTuerUzI/YY8N9v82rbDylYq23YU7Nn6Bhdd+42rHS848AYTqj/CXttEHnX8+htvmO9ttVWnLeWIv5x+I96yfZ6nxOSdI/z8ZKDKztrrmnY82z0g5H5Dnpttfm3bYWUrlW07CvZsfYOLLm9c7ZfmuZ7aYytiPLm7jFyQKkfz4zvHxOOUu9JIjprlSS72HDt2XHSOff22RZxrFmPCLwvVBWNW2Vm7wNGOZ7sHhNxvyHOzza9tO6xspbJtR8GerW9w0bXfuNrxggNnQgggUDoB7XVNO54taMj9hjw32/zatsPKVirbdhTs2foGF137jasdLzhwJoQAAqUT0F7XtOPZgobcb8hzs82vbTusbKWybUfBnq1vcNG137ja8YIDZ0IIIFA6Ae11TTueLWjI/YY8N9v82rbDylYq23YU7Nn6Bhdd+42rHS84cCaEAAKlE9Be17Tj2YKG3G/Ic7PNr207rGylsm1HwZ6tb3DRtd+42vGCA2dCCCBQOgHtdU07ni1oyP2GPDfb/Nq2w8pWKtt2FOzZ+gYXXfuNqx0vOHAmhAACpRPQXte049mChtxvyHOzza9tO6xspbJtR8GerW9w0bXfuNrxggNnQgggUDoB7XVNO54taMj9hjw32/zatsPKVirbdhTs2foGF137jasdLzhwJoQAAqUT0F7XtOPZgobcb8hzs82vbTusbKWybUfBnq1vcNG137ja8YIDZ0IIIFA6Ae11TTueLWjI/YY8N9v82rbDylYq23YU7Nn6Bhdd3rjaL550qi1KPAQQyFNAu8DRjmdrE3K/Ic/NNr+27bCylcq2HQV7tr7BRdd+42rHCw6cCSGAQOkEtNc17Xi2oCH3G/LcbPNr2w4rW6ls21GwZ+sbXHTtN652vODAmRACCJROQHtd045nCxpyvyHPzTa/tu2wspXKth0Fe7a+wUXXfuNqxwsOnAkhgEDpBLTXNe14tqAh9xvy3Gzza9sOK1upbNtRsGfrG1x07TeudrzgwJkQAgiUTkB7XdOOZwsacr8hz802v7btsLKVyrYdBXu2vsFF137jascLDpwJIYBA6QS01zXteLagIfcb8txs82vbDitbqWzbUbBn6xtcdO03rna84MCZEAIIlE5Ae13TjmcLGnK/Ic/NNr+27bCylcq2HQV7tr7BRdd+42rHCw6cCSGAQOkEtNc17Xi2oCH3G/LcbPNr2w4rW6ls21GwZ+sbXHTtN652vODAmRACCJROQHtd045nCxpyvyHPzTa/tu2wspXKth0Fe7a+wUXXfuNqxwsOnAkhgEDpBLTXNe14tqAh9xvy3Gzza9sOK1upbNtRsGfrG1x07TeudrzgwJkQAgiUTkB7XdOOZwsacr8hz802v7bt+vTpYyZOnGjbXK1d7969zYQJE9TilT0QBXvZM+h5/LLIab/mz5+vHZJ4CCCAQG4C2sWgdjxbmJD7DXlutvmlXbkEKNjLla/cR6u9yGnHyx2IASCAQOUFtNc17Xi2CQq535DnZptf2pVLgIK9XPnKfbTai5x2vNyBGAACCFReQHtd045nm6CQ+w15brb5pV25BCjYy5Wv3Eervchpx8sdiAEggEDlBbTXNe14tgkKud+Q52abX9qVS4CCvVz5yn202oucdrzcgRgAAghUXkB7XdOOZ5ugkPsNeW62+aVduQQo2MuVr9xHq73IacfLHYgBIIBA5QW01zXteLYJCrnfkOdmm1/alUuAgr1c+cp9tNqLnHa83IEYAAIIVF5Ae13TjmeboJD7DXlutvmlXbkEKNjLla/cR6u9yGnHyx2IASCAQOUFtNc17Xi2CQq535DnZptf2pVLgIK9XPnKfbTai5x2vNyBGAACCFReQHtd045nm6CQ+w15brb5pV25BCjYy5Wv3Ecri5z2iwcnaYsSDwEE8hTQLga149nahNxvyHOzzS/tyiVAwV6ufOU+Wu1FTjte7kAMAAEEKi+gva5px7NNUMj9hjw32/zSrlwCFOzlylfuo9Ve5LTj5Q7EABBAoPIC2uuadjzbBIXcb8hzs80v7colQMFernzlPlrtRU47Xu5ADAABBCovoL2uacezTVDI/YY8N9v80q5cAhTs5cpX7qPVXuS04+UOxAAQQKDyAtrrmnY82wSF3G/Ic7PNL+3KJUDBXq585T5a7UVOO17uQAwAAQQqL6C9rmnHs01QyP2GPDfb/NKuXAIU7OXKV+6j1V7ktOPlDsQAEECg8gLa65p2PNsEhdxvyHOzzS/tyiVAwV6ufOU+Wu1FTjte7kAMAAEEKi+gva5px7NNUMj9hjw32/zSrlwCFOzlylfuo9Ve5LTj5Q7EABBAoPIC2uuadjzbBIXcb8hzs80v7colQMFernzlPlrtRU47Xu5ADAABBCovoL2uacezTVDI/YY8N9v80q5cAhTs5cpX7qOVRU77xZNOtUWJhwACeQpoF4Pa8WxtQu63T58+ZuLEibYUau169+5tJkyYoBaPQNURoGCvTq5VZqq9gGvHU5kkQRBAAIEUAtrrmnY826lVrV9bF9ohkIcABXse6iXuU3sB145XYlqGjgACgQhor2va8WyZq9avrQvtEMhDgII9D/US96m9gGvHKzEtQ0cAgUAEtNc17Xi2zFXr19aFdgjkIUDBnod6ifvUXsC145WYlqEjgEAgAtrrmnY8W+aq9WvrQjsE8hCgYM9DvcR9ai/g2vFKTMvQEUAgEAHtdU07ni1z1fq1daEdAnkIULDnoV7iPrUXcO14JaZl6AggEIiA9rqmHc+WuWr92rrQDoE8BCjY81AvcZ/aC7h2vBLTMnQEEAhEQHtd045ny1y1fm1daIdAHgIU7Hmol7hP7QVcO16JaRk6AggEIqC9rmnHs2WuWr+2LrRDIA8BCvY81Evcp/YCrh2vxLQMHQEEAhHQXte049kyV61fWxfaIZCHAAV7Huol7lMWcO0XTzrVFiUeAgjkKaD9FM28no6pPQ/bnOQ1X9vx0Q6BPAQo2PNQL3Gf2kdctOOVmJahI4AAAggggAACDQUo2NkxEgloF9ja8RJNhsYIIIAAAggggEAJBCjYS5CkIg1Ru8DWjlckK8aCAAIIIIAAAghoCFCwayhWKIZ2ga0dr0KpYKoIIIAAAgggUBEBCvaKJFprmtoFtnY8rXkSBwEEEEAAAQQQKIoABXtRMlGScWgX2NrxSsLIMBFAAAEEEEAAAWsBCnZrKhqKgHaBrR2PLCGAAAIIIIAAAqEJULCHltGM56NdYGvHy3j6hEcAAQQQQAABBLwLULB7Jy93h9oFtna8cusyegQQQAABBBBAYEEBCnb2ikQCVXrS6aKLLmpOPPFE86tf/SqREY0RQKCzwGmnnWZGjhxp5syZA01JBFj/SpKogIfJutE5uRTsAe/sWUxN+4i4djytOa+22mrmpz/9qenWrZs588wztcISB4FKCgwfPtzMnDnT3HnnnebNN9+spEGZJs36V6ZshTtW1g0K9nD3bg8z0y6wteNpEPTs2dOMGTPG3HvvvWb+/PkU7BqoxKi0gHzwynupX79+5oADDjAvvPBCpT2KPHnWvyJnp1pjY92gYK/WHq88W+0CWzte2unusMMOZtiwYaZPnz4mXiw4wp5Wle2rLlD7XpowYYI5++yzzWOPPVZ1lsLNn/WvcCmp9IBYNyjYK/0GSDt57QJbO16a+fXv398MGDDA7LPPPlEYCvY0mmyLwNcC9e+lu+66y9x+++3RKTK8iiHA+leMPDAK1o1m+wDnsPPuSCSgXWBrx0s0mZrGhx9+uNlss83MYYcd1vF/KdhdNdkOgc4Cjd5L11xzjXn++efN1VdfDVfOAqx/OSeA7hsKsG5whJ23RgoB7QJbO57L1E455ZTo4tKTTz650+YU7C6abIPAggLN3kvnnnuu+eSTT8w555wDW04CrH85wdNtWwHWDQr2tjsJDZoLaBfY2vGS5u7CCy8006dPNxdccMECm1KwJ9WkPQKNBVq9l44//niz8sorm6FDh8LnWYD1zzM43SUSYN2gYE+0w9C4bodZaKHobg9arzwL9uuvv95MmjTJXHfddQ2nQ8GulWXiVF2g3Xvp4IMPNttvv7056KCDqk7lbf6sf96o6chRgHWDgt1x12EzEdAusLXj2WZp7NixZvTo0eb+++9vukm7xcK2L9ohUHUBm/fSnnvuaQYPHmz22GOPqnNlPn/Wv8yJ6UBBgHWDgl1hN6puiBCedPrkk09GTzB94oknWiZSjr737t27uslm5ggoCsjtHNu9n7bZZpvoiahbb721Ys+EqhVg/WN/KJMA68bX2eIuMWXacwswVu0j4trx2hG99NJLZq+99jJTp05t15S/RwCBHAQ22GCD6KFl66+/fg69h90l61/Y+a3y7KqwblCwV3kPd5i7doGtHa/VlN5//32z0UYbmffee89h5myCAAK+BHr06GGmTJliunfv7qvL4Pth/Qs+xZWfYOjrBgV75XfxZADaBbZ2vGazmTdvnunatauZO3dusgnTGgEEchHo0qWLmT17tllkkUVy6T+kTln/Qsomc2klEPK6QcHOvp9IQLvA1o7XbDLLLLOMef31183SSy+daL40RgCBfARmzpxp1lhjDTNjxox8BhBQr6x/ASWTqbQUCHndoGBn508koF1ga8drNJl11lnHPProo2bttddONFcaI4BAvgKvvfaa2Xnnnc2rr76a70BK3DvrX4mTx9CdBEJdNyjYnXaH6m6kXWBrx6vPzFZbbWWuvPJKs+WWW1Y3acwcgRIL/PnPfzZDhgwxzzzzTIlnkc/QWf/ycafX/AVCXDco2PPfr0o1Au0CWzteLeYuu+xijjvuONO3b99SGTNYBBDoLDB+/Hhz8cUXm4cffhgaSwHWP0somgUrENq6QcEe7K6azcS0C2ztePGs999/f/OjH/3IDBw4MBsIoiKAgFeBW265xTz44IPm5ptv9tpvGTtj/Stj1hhzFgIhrRsU7FnsIQHH1C6wteMJ/THHHGPWXXddc/TRRwecCaaGQPUELr/8cvPKK6+Yyy67rHqTt5wx658lFM0qIxDKukHBXpldVmeiRX/S6aWXXmrmz59vfvGLX+hMmCgIIFAogUsuucTIOnTssccWalxFGAzrXxGywBiKKBDCukHBXsQ9q8Bj0j4irh2PI+wF3nkYGgIpBUI5UpaSoeXmHGHPUpfYZRQIZd2gYC/j3pfjmLULbO14MQ3ncOa4k9A1AhkIhHQuagY8nUKy/mUtTPyyCIS0blCwl2WvK8g4tQts7Xi1TNwloSA7DcNAIKVAaHd7SMlhtTnrnxUTjQIWCG3doGAPeGfNYmraBbZ2vPo5cx/iLPYCYiLgTyDE+yn70mP98yVNP0UTCHHdoGAv2l5W8PFoF9ja8Rrx8aS/gu9UDA+BJgKhPrHQZ8JZ/3xq01cRBEJdNyjYi7B3lWgM2gW2drxmlMsss4x5/fXXzdJLL10ibYaKQHUFZs6cadZYYw0zY8aM6iIozZz1TwmSMIUXCHndoGAv/O5XrAFqF9ja8ZppzZs3z3Tt2tXMnTu3WKCMBgEEGgp06dLFzJ492yyyyCIIpRRg/UsJyOalEQh53aBgL81uWIyBahfY2vFaKb3//vtmo402Mu+9914xMBkFAgg0FOjRo4eZMmWK6d69O0JKAqx/SpCEKaxA6OsGBXthd71iDky7wNaO107tpZdeMnvttZeZOnVqu6b8PQII5CCwwQYbmHvvvdesv/76OfQedpesf2Hnt8qzq8K6QcFe5T3cYe59+vQxEydOdNiy8Sa9e/c2EyZMUItnE+jJJ580J554onniiSdaNp80aZKR8fFCAIH0AvI+b/d+2mabbczIkSPN1ltvnb5DIjQUYP1jxyiTAOvG19miYC/TnstY1QTGjh1rRo8ebe6///6mMYcPH27mz59vzjzzTLV+CYRAFQVs3kt77rmnGTx4sNljjz2qSOR1zqx/XrnpzFGAdaMzHAW7447EZuUXuP76640cRb/uuusaTsZmsSi/AjNAIHuBdu+lgw8+2Gy//fbmoIMOyn4w9BAJsP6xIxRdgHWDgr3o+yjj8yhw4YUXmunTp5sLLrhggV7bLRYeh0lXCJRaoNV76fjjjzcrr7yyGTp0aKnnWMbBs/6VMWvVGTPrBgV7dfZ2ZmolcMopp5hu3bqZk08+uVN7CnYrPhoh0Fag2Xvp3HPPNZ988ok555xz2sagQTYCrH/ZuBI1vQDrBgV7+r2ICMEJHHbYYaZXr17m0EMP7ZgbBXtwaWZCOQk0ei/95je/MZMnTzbXXHNNTqOi21iA9Y99oYgCrBsU7EXcLxlTAQT69+9vBgwYYPbZZ59oNBTsBUgKQwhCoP69dNddd5nbb7/d3HnnnUHML4RJsP6FkMWw5sC6QcEe1h7NbFQFdthhBzNs2DAjt6+kYFelJViFBWrfS3KbtrPPPts89thjFRYp5tRZ/4qZl6qOinWDgr2q+z7zthTo2bOnGTNmTPTwFm7raIlGMwRaCMQfvP369TMHHHCAeeGFF/AqqADrX0ETU8FhsW5QsFdwt2fKSQVWW20189Of/jS6GJX7sCfVoz0CnQXkg3fmzJnRKTBvvvkmPAUXYP0reIIqMjzWDQr2iuzqTDOtwGKLLWZOOOEEM2LEiLShCrG9POFQniQZv2666Saz//77ex2bjEF+vbj44ovN4osv3rDvDz/80Bx11FHRF6XVV1/dHHfccdFRWe2nX7788stRH1dccYVZfvnlO8Yi/YuLnBql3adX7AJ1dtppp0VPMJ0zZ06BRsVQWgmUbf2L37fjx4/vNC15onWe72PWE/f3GesGBbv73sOWCJRUQArlIUOGRBf6rbfeeuazzz6LCuFtt93Wa9GetGCXsWb1omDPSpa4CPgXaFQYy3tcbiRw5ZVX5la0U7D73xdC7ZEnnYaaWeaFwP8JNCvO6wtWuRDw9NNPj7aKj77H266yyiodf3fWWWdFR5+l/dprr91R8N98883mtddei/4u/qCUc5X79u1r5O/kKHZcsMt9t+X+z/GR8/io+kknnWSuuuqq6COH/ZMAACAASURBVFZ/ci7tDTfcEP133K5VXDlSLq/bbrst2jb+clJ/5C0ev2vBLnMZNGhQ1FfczwcffNDplwOJPXr06OjCZXnJl6P49oXxET9pc8wxx0R/v9BCC0VGo0aNWsCZHRkBBNoLNCuM5X31+OOPd/yqV/tLo9zOUn7ti9+jjdY5+bvatTFeP+T/N1uPakfbrmBnPWmfW1p8JUDBzp6AQOACcWF42WWXRUfXG73kQ0NOVZE/pfiMj0ptvvnmUbEpL/lge+655zqO1NcWqfEHnhTW66+/flTEy7/Ln/Jh99Zbb3VsL/00K9jlFJUVVlih4Skx7eLK6T5SDMdjlg9feYpm7S8JtRYy5qSnxMiHvcwn/gIi/y6vI488smPMYix/L694/vLv8kWm9pcO+X+1R/9qf32QvzvjjDPM4MGDm+Ys8N2W6SGQSKBZYVz7xVzWLPmSLGthfLpd7Tphs87F70tZp2pPnatd52pP92tVsLOeJEpx5RtTsFd+FwAgdIFmR5Jr511/tDwuROsL3trzy2X7+MOvtviVD8XaQri2SI6LfJeCXT4gW8WtLaRrj/bXzrN+/EkL9vp9pbYf6V9uiydfGJp9qMe/WMiXGZlP7CdFvs3pQqHvq8wPAVcBm4L94YcfXuBoe+0BhPgUwdp1ov7Xs3h89cW26y92tfNlPXHNfjW2o2CvRp6ZZYUF2h1hb3TKTPzBERfs9aeu1F8QOm3atI7TYeo/yBp9+LkU7JLC2qK81Ydq7Qdf/cW28WkstV8ybC86ja1qn84Z/0Qu/ci9xeXuQvHpMP/5z3+io3D1F8LJKUdbbLHFAkf4a38ez+Oi4Aq/TZh6yQWaFey165EU7PHpbPF05ZS93/72t+ZXv/rVAqfoyToX/2IWbxe/L+vXFYlXeypeHL/VEXbWk5LvdJ6HT8HuGZzuEPAt0OwcdvkgOfXUU6O74Mi507Xno9cfYW9UsMcfZHLeurzk6LLcjaH+SJPNEfbaNs1OiWl3hL327jNxwS6nqtT+bJ32CHv9+bC1XwxiT3Hp0aNH1G9tf/WnI7X65aP2SHyed7jwva/SHwKuAjbnsN9zzz0dBxZq+6l/vzV739a2k+3b3fFK2rQq2FlPXLNdze0o2KuZd2ZdMYFmd4mR8zfl3Op257A3K9jji65WWmmljvO64w8om3PYa/s///zzowtFXc9htynYZZ5xPy5H2Gs/YOOj51JQi2H8C8Ddd9/dccFr/P/kz9qLceWuFfVfQGqLfykMOIe9Ym9SpptKwOYuMfW/Nsbnnbf6xe/ZZ5/tKPJr35f157DXrqG2v9ixnqRKeeU2pmCvXMqZcFUF6n/Crb3bQVxYNrtLTLOCvfYuMnHRKrHa3SVGLmB94403oosu5U4yF110kXnmmWc63Xv96aefTnSXmEYFe/xlJP45W05lkQtn43PIW53D3uh+zvGFr/J38lP6EUccYX73u991ugNF/VG3+p+945/U64+wN2tX1f2VeSOQRMD2Puy162B8B6slllii0/MeGj0LIj4NrvZUtdp1rtHpMLVH2FlPkmSTto0EKNjZLxBAAAElgfqLd5XCEgYBBCoowHpSwaS3mDIFO/sDAgggkFIgPjouYVo9xTVlN2yOAAIVEGA9qUCSHaZIwe6AxiYIIIAAAggggAACCPgSoGD3JU0/CCCAAAIIIIAAAgg4CFCwO6CxCQIIIIAAAggggAACvgQo2H1J0w8CCCCAAAIIIIAAAg4CFOwOaGyCAAIIIIAAAggggIAvAQp2X9L0gwACCCCAAAIIIICAgwAFuwMamyCAAAIIIIAAAggg4EuAgt2XNP0ggAACCCCAAAIIIOAgQMHugMYmCCCAAAIIIIAAAgj4EqBg9yVNPwgggAACCCCAAAIIOAhQsDugsQkCCCCAAAIIIIAAAr4EKNh9SdMPAggggAACCCCAAAIOAhTsDmhsggACCCCAAAIIIICALwEKdl/S9IMAAggggAACCCCAgIMABbsDGpsggAACCCCAAAIIIOBLgILdlzT9IIAAAggggAACCCDgIEDB7oDGJggggAACCCCAAAII+BKgYPclTT8IIIAAAggggAACCDgIULA7oLEJAggggAACCCCAAAK+BCjYfUnTDwIIIIAAAggggAACDgIU7A5obIIAAggggAACCCCAgC8BCnZf0vSDAAIIIIAAAggggICDAAW7AxqbIIAAAggggAACCCDgS4CC3Zc0/SCAAAIIIIAAAggg4CBAwe6AxiYIIIAAAggggAACCPgSoGD3JU0/CCCAAAIIIIAAAgg4CFCwO6CxCQIIIIAAAggggAACvgQo2H1J0w8CCCCAAAIIIIAAAg4CFOwOaGyCAAIIIIAAAggggIAvAQp2X9L0gwACCCCAAAIIIICAgwAFuwMamyCAAAIIIIAAAggg4EuAgt2XNP0ggAACCCCAAAIIIOAgQMHugMYmCCCAAAIIIIAAAgj4EqBg9yVNPwgggAACCCCAAAIIOAhQsDugsQkCCCCAAAIIIIAAAr4EKNh9SdMPAggggAACCCCAAAIOAhTsDmhsggACCCCAAAIIIICALwEKdl/S9IMAAggggAACCCCAgIMABbsDGpsggAACCCCAAAIIIOBLgILdlzT9IIAAAggggAACCCDgIEDB7oDGJggggAACCCCAAAII+BKgYPclTT8IIIAAAggggAACCDgIULA7oLEJAggggAACCCCAAAK+BCjYfUnTDwIIIIAAAggggAACDgIU7A5obIIAAggggAACCCCAgC8BCnZf0vSDAAIIIIAAAggggICDAAW7AxqbIIAAAggggAACCCDgS4CC3Zc0/SCAAAIIIIAAAggg4CBAwe6AxiYIIIAAAggggAACCPgSoGD3JU0/CCCAAAIIIIAAAgg4CFCwO6CxCQIIIIAAAggggAACvgQo2H1J0w8CCCCAAAIIIIAAAg4CFOwOaGyCAAIIIIAAAggggIAvAQp2X9L0gwACCCCAAAIIIICAgwAFuwMamyCAAAIIIIAAAggg4EuAgt2XNP0ggAACCCCAAAIIIOAgQMHugMYmCCCAAAIIIIAAAgj4EqBg9yVNPwgggAACCCCAAAIIOAhQsDugsQkCCCCAAAIIIIAAAr4EKNh9SdMPAggggAACCCCAAAIOAhTsDmhsggACCCCAAAIIIICALwEKdl/S9IMAAggggAACCCCAgIMABbsDGpsggAACCCCAAAIIIOBLgILdlzT9IIAAAggggAACCCDgIEDB7oDGJggggAACCCCAAAII+BKgYPclTT8IIIAAAggggAACCDgIULA7oLEJAggggAACCCCAAAK+BCjYfUnTDwIIIIAAAggggAACDgIU7A5obIIAAggggAACCCCAgC8BCnZf0vSDAAIIIIAAAggggICDAAW7AxqbIIAAAggggAACCCDgS4CC3Zc0/SCAAAIIIIAAAggg4CBAwe6AxiYIIIAAAggggAACCPgSoGD3JU0/CCCAAAIIIIAAAgg4CFCwO6CxCQIIIIAAAggggAACvgQo2H1J0w8CCCCAAAIIIIAAAg4CFOwOaGyCAAIIIIAAAggggIAvAQp2X9L0gwACCCCAAAIIIICAgwAFuwMamyCAAAIIIIAAAggg4EuAgt2XNP0ggAACCCCAAAIIIOAgQMHugMYmCCCAAAIIIIAAAgj4EqBg9yVNPwgggAACCCCAAAIIOAhQsDugsQkCCCCAAAIIIIAAAr4EKNh9SdMPAggggAACCCCAAAIOAhTsDmhsggACCCCAAAIIIICALwEKdl/S9IMAAggggAACCCCAgIMABbsDGpsggAACCCCAAAIIIOBLgILdlzT9IIAAAggggAACCCDgIEDB7oDGJggggAACCCCAAAII+BKgYPclTT8IIIAAAggggAACCDgIULA7oLEJAggggAACCCCAAAK+BCjYfUnTDwIIIIAAAggggAACDgIU7A5obIIAAggggAACCCCAgC8BCnZf0vSDAAIIIIAAAggggICDAAW7AxqbIIAAAggggAACCCDgS4CC3Zc0/SCAAAIIIIAAAggg4CBAwe6AxiYIIIAAAggggAACCPgSoGD3JU0/CCCAAAIIIIAAAgg4CFCwO6CxCQIIIIAAAggggAACvgQo2H1J0w8CCCCAAAIIIIAAAg4CFOwOaGyCAAIIIIAAAggggIAvAQp2X9L0gwACCCCAAAIIIICAgwAFuwMamyCAAAIIIIAAAggg4EuAgt2XNP0ggAACCCCAAAIIIOAgQMHugMYmCCCAAAIIIIAAAgj4EqBg9yVNPwgggAACCCCAAAIIOAhQsDugsQkCCCCAAAIIIIAAAr4EKNh9SdMPAggggAACCCCAAAIOAhTsDmhsggACCCCAAAIIIICALwEKdl/S9IMAAggggAACCCCAgIMABbsDGpsggAACCCCAAAIIIOBLgILdlzT9IIAAAggggAACCCDgIEDB7oDGJggggAACCCCAAAII+BKgYPclTT8IIIAAAggggAACCDgIULA7oLEJAggggAACCCCAAAK+BCjYfUnTDwIIIIAAAggggAACDgIU7A5obIIAAggggAACCCCAgC8BCnZf0vSDAAIIIIAAAggggICDAAW7AxqbIIAAAggggAACCCDgS4CC3Zc0/SCAAAIIIIAAAggg4CBAwe6AxiYIIIAAAggggAACCPgSoGD3JU0/CCCAAAIIIIAAAgg4CFCwO6CxCQIIIIAAAggggAACvgQo2H1J0w8CCCCAAAIIIIAAAg4CFOwOaGyCAAIIIIAAAggggIAvAQp2X9L0gwACCCCAAAIIIICAgwAFuwMamyCAAAIIIIAAAggg4EuAgt2XNP0ggAACCCCAAAIIIOAgQMHugMYmCCCAAAIIIIAAAgj4EqBg9yVNPwgggAACCCCAAAIIOAhQsDugsQkCCCCAAAIIIIAAAr4EKNh9SdMPAggggAACCCCAAAIOAhTsDmhsggACCCCAAAIIIICALwEKdl/S9IMAAggggAACCCCAgIMABbsDGpsggAACCCCAAAIIIOBLgILdlzT9IIAAAggggAACCCDgIEDB7oDGJggggAACCCCAAAII+BKgYPclTT8IIIAAAggggAACCDgIULA7oLEJAggggAACCCCAAAK+BCjYfUnTDwIIIIAAAggggAACDgIU7A5obIIAAggggAACCCCAgC8BCnZf0vSDAAIIIIAAAggggICDAAW7AxqbIIAAAggggAACCCDgS4CC3Zc0/SCAAAIIIIAAAggg4CBAwe6AxiYIIIAAAggggAACCPgSoGD3JU0/CCCAAAIIIIAAAgg4CFCwO6CxCQIIIIAAAggggAACvgQo2H1J0w8CCCCAAAIIIIAAAg4CFOwOaGyCAAIIIIAAAggggIAvAQp2X9L0gwACCCCAAAIIIICAgwAFuwMamyCAAAIIIIAAAggg4EuAgt2XNP0ggAACCCCAAAIIIOAgQMHugMYmCCCAAAIIIIAAAgj4EqBg9yVNPwgggAACCCCAAAIIOAhQsDugsQkCCCCAAAIIIIAAAr4EKNh9SdMPAggggAACCCCAAAIOAhTsDmhsggACCCCAAAIIIICALwEKdl/S9IMAAggggAACCCCAgIMABbsDGpsggAACCCCAAAIIIOBLgILdlzT9IIAAAggggAACCCDgIEDB7oDGJggggAACCCCAAAII+BKgYPclTT8IIIAAAggggAACCDgIULA7oLEJAggggAACCCCAAAK+BCjYfUnTDwIIIIAAAggggAACDgIU7A5obIIAAggggAACCCCAgC8BCnZf0vSDAAIIIIAAAggggICDAAW7AxqbIIAAAggggAACCCDgS4CC3Zc0/SCAAAIIIIAAAggg4CBAwe6AxiYIIIAAAggggAACCPgSoGD3JU0/CCCAAAIIIIAAAgg4CFCwO6CxCQIIIIAAAggggAACvgQo2H1J0w8CCCCAAAIIIIAAAg4CFOwOaGyCAAIIIIAAAggggIAvAQp2X9L0gwACCCCAAAIIIICAgwAFuwMamyCAAAIIIIAAAggg4EuAgt2XNP0ggAACCCCAAAIIIOAgQMHugMYmCCCAAAIIIIAAAgj4EqBg9yVNPwgggAACCCCAAAIIOAhQsDugsQkCCCCAAAIIIIAAAr4EKNh9SdMPAggggAACCCCAAAIOAhTsDmhsggACCCCAAAIIIICALwEKdl/S9IMAAggggAACCCCAgIMABbsDGpsggAACCCCAAAIIIOBLgILdlzT9IIAAAggggAACCCDgIEDB7oDGJggggAACCCCAAAII+BKgYPclTT8IIIAAAggggAACCDgIULA7oLEJAggggAACCCCAAAK+BCjYfUnTDwIIIIAAAggggAACDgIU7A5obIIAAggggAACCCCAgC8BCnZf0vSDAAIIIIAAAggggICDAAW7AxqbIIAAAggggAACCCDgS4CC3Zc0/SCAAAIIIIAAAggg4CBAwe6AxiYIIIAAAggggAACCPgSoGD3JU0/CCCAAAIIIIAAAgg4CFCwO6CxCQIIIIAAAggggAACvgQo2H1J0w8CCCCAAAIIIIAAAg4CFOwOaGyCAAIIIIAAAggggIAvAQp2X9L0gwACCCCAAAIIIICAgwAFuwMamyCAAAIIIIAAAggg4EuAgt2XNP0ggAACCCCAAAIIIOAgQMHugMYmCCCAAAIIIIAAAgj4EqBg9yVNPwgggAACCCCAAAIIOAhQsDugsQkCCCCAAAIIIIAAAr4EKNh9SdMPAggggAACCCCAAAIOAhTsDmhsggACCCCAAAIIIICALwEKdl/S9IMAAggggAACCCCAgIMABbsDGpsggAACCCCAAAIIIOBLgILdlzT9IIAAAggggAACCCDgIEDB7oDGJggggAACCCCAAAII+BKgYPclTT8IIIAAAggggAACCDgIULA7oLEJAggggAACCCCAAAK+BCjYfUnTDwIIIIAAAggggAACDgIU7A5obIIAAggggAACCCCAgC8BCnZf0vSDAAIIIIAAAggggICDAAW7AxqbIIAAAggggAACCCDgS4CC3Zc0/SCAAAIIIIAAAggg4CBAwe6AxiYIIIAAAggggAACCPgSoGD3JU0/CCCAAAIIIIAAAgg4CFCwO6CxCQIIIIAAAggggAACvgQo2H1J0w8CCCCAAAIIIIAAAg4CFOwOaGyCAAIIIIAAAggggIAvAQp2X9L0gwACCCCAAAIIIICAgwAFuwMamyCAAAIIIIAAAggg4EuAgt2XNP0ggAACCCCAAAIIIOAgQMHugMYmCCCAAAIIIIAAAgj4EqBg9yVNPwgggAACCCCAAAIIOAhQsDugsQkCCCCAAAIIIIAAAr4EKNh9SdMPAggggAACCCCAAAIOAhTsDmhsggACCCCAAAIIIICALwEKdl/S9IMAAggggAACCCCAgIMABbsDGpsggAACCCCAAAIIIOBLgILdlzT9IIAAAggggAACCCDgIEDB7oDGJggggAACCCCAAAII+BKgYPclTT8IIIAAAggggAACCDgIULA7oLEJAggggAACCCCAAAK+BCjYfUnTDwIIIIAAAggggAACDgIU7A5obIIAAggggAACCCCAgC8BCnZf0vSDAAIIIIAAAggggICDAAW7AxqbIIAAAggggAACCCDgS4CC3Zc0/SCAAAIIIIAAAggg4CBAwe6AxiYIIIAAAggggAACCPgSoGD3JU0/CCCAAAIIIIAAAgg4CFCwO6CxCQIIIIAAAggggAACvgQo2H1J0w8CCCCAAAIIIIAAAg4CFOwOaGyCAAIIIIAAAggggIAvAQp2X9L0gwACCCCAAAIIIICAgwAFuwMamyCAAAIIIIAAAggg4EuAgt2XNP0ggAACCCCAAAIIIOAgQMHugMYmCCCAAAIIIIAAAgj4EqBgTym90EILpYygu/mSSy5punTpEgWdM2eOWWGFFcwHH3xgFl100ej/zZ0718yaNUu3U6I1FSAfYe8cZczv/Pnzw04Ks0MAAQQCFKBgT5lUKdh9fwCOHz/ejB07NvrnBz/4gZk3b55ZeeWVo39WWmmlBf585513zPTp0038Z+2/L7zwwubpp582e+yxR/TPD3/4w5Qi1ducfISd85Dym8d6FfbewewQQAABPwIU7CmdfXwAfvjhh+bBBx+MCvRx48aZPn36dBTYq666asoZGPPmm292fAGYNGlSFHv33Xc3P/7xj82yyy6bOn5oAchHaBntPJ+Q8+tjvQp772B2CCCAQD4CFOwp3bP8AJwxY4Y58cQTzeTJk81GG23UUUgvtthiKUfdfPPZs2d3fDGYOnWq2WKLLczIkSPNUkstlVmfZQlMPsqSKbdxViG/Wa5XbupshQACCCBgI0DBbqPUok1WH4Ann3yyufrqq6Ni+dBDD005SvfNZQzypeGoo44yI0aMcA9U8i3JR8kT2Gb4VclvVutV2HsHs0MAAQTyF6BgT5kD7Q/AX//61+akk04y55xzTvRnUV4yntNPPz36AjF06NCiDCvzcZCPzIlz7aBq+dVer3JNHp0jgAACFRKgYE+ZbK0PwBtuuMH88pe/ND//+c/NeeedZ4p29xlhkotb5Wj7jTfeaC666CIzaNCglHrF3Zx8FDc3GiOran611iuNHBADAQQQQMBegILd3qphS40PwAMOOMCsvvrq0ZHr5ZZbLuWIst/8/fffjwp2udvM9ddfn32HnnsgH57BPXdX5fxqrFee00V3CCCAAALGGAr2lLtB2g/Anj17mhNOOKGUR6vlKOWll15qnnvuuZSKxdmcfBQnF1mMpOr5TbteZZETYiKAAAIItBegYG9v1LKF6wfgX//6V7PpppuaF154IfqzrK/nn3/ebLnllubFF180G264YVmnYchHaVNnNXDy+xWT63plhUwjBBBAAIHMBCjYU9K6fADedNNNRi52kyI3hJec2y5fOoYNG2b23Xff0k2JfJQuZYkGTH6/5nJZrxJh0xgBBBBAIBMBCvaUrEk/AC+//HLzzDPPmDFjxqTsuXib77fffma77bYzRxxxRPEG12RE5KM0qXIaKPntzJZ0vXJCZyMEEEAAAXUBCvaUpEk+AKV4mDJlSnR/9VBfcs/47373u+bII48s/BTJR+FTlGqA5HdBviTrVSp8NkYAAQQQUBWgYE/JafsBKD/Ljx8/Psgj6/WEcqR9zz33LPTpMeQj5Y5f8M3Jb+ME2a5XBU8vw0MAAQQqJ0DBnjLlNh+AcsHb/vvvH8w56zZkcgHq3XffbTbYYAOb5l7bkA+v3N47I7/NyW3WK+8Jo0MEEEAAgbYCFOxtiVo3sPkAtGmTchiF23zu3Llm8cUXN3PmzCnc2MhH4VKiOiDyS8GuukMRDAEEECiAAAV7yiS0Kw7kvs9ygWmZb93oSiT3Zz/kkEPM5MmTXUOob0c+ipUP7QST39b5bbdeaeeDeAgggAACOgIU7CkdW30AyhMV+/btW8qHIqVk6dhcnoQ6adIkc91112mFdI5DPkz0ZNqi5MM5kU02JL/t80vBrr3XEQ8BBBDwI0DBntK52QegFEavvPKKGTFiRMoeyr/5SSedZDbeeONcv7iQj6/3oyLkQ3uvJr92+aVg197ziIcAAgj4EaBgT+nc7ANw+eWXjwr25ZZbLmUP5d/8vffeM5tssol59913c5sM+fiavgj50N4RyK9dfinYtfc84iGAAAJ+BCjYUzo3+gCUp5h++OGHZuTIkSmjh7P50KFDzSqrrGJ++ctfep8U+ViQPM98aO8A5Nc+vxTs2nsf8RBAAAE/AhTsKZ0bfQAuvPDCZt68eUb+jtdXAnK3mCWXXNJ88cUX3knIx4LkeeZDewcgv/b5pWDX3vuIhwACCPgRoGBP6Vz/AXjyySebpZde2sh5wrw6C/zqV78ys2fPNmeffbY3GvLRnDqPfGgnnvwmyy8Fu/YeSDwEEEDAjwAFe0rn2g/AGTNmmLXWWst89NFHKaOGu3m3bt3M9OnTzTe/+c3MJ0k+2hP7zEf70SRrQX7be9Xnl4K9vRktEEAAgSIKULCnzErtB+Bhhx1mevXqZQ499NCUUcPdfNSoUWbKlCnmyiuvzHyS5KM9sc98tB9Nshbkt71XfX4p2Nub0QIBBBAoogAFe8qsxB+AcpGp3HP92WefTRkx/M0333xzM3HiRLPUUktlNlnyYU/rIx/2o7FrSX7tnKRVbX4p2O3daIkAAggUSYCCPWU24g/AG2+80fz+9783N9xwQ8qI4W++//77mx/96Edm4MCBmU2WfNjT+siH/WjsWpJfOydpVZtfCnZ7N1oigAACRRKgYE+ZjfgDcJ999jH77bef2XvvvVNGDH/z22+/3dx7773mtttuy2yy5MOe1kc+7Edj15L82jlJq9r8UrDbu9ESAQQQKJIABXvKbMQfgF27djWffPKJWWyxxaKIN998c6cnez7xxBNm6623Ttmb/eafffaZOe6444w8rr1Vvy+//LI588wzzRVXXGE++OCDjn+XB9Fovp588kkzZswYc/HFF5v58+eb7t27m1mzZml20SlWfT4y6yiAwP/5z38yz4c2E/m1F63NLwW7vRstEUAAgSIJULCnzIZ8AD788MNRISp/xsW6FKdStEvhK+fbys/Sw4YN81a0uxTs2kV6LW1twb744oubnXbaycgt+XbccceUGVhw8/Hjx3fKh3oHAQbMMh/aXOQ3uWicX/lTvjDzQgABBBAolwAFe8p8ScF+5JFHmo022ij6s1lxXluwSpdy9Puaa66Jeo+PvsdHu+U+7rV/JxeN1R8tl3uZr7322tEXAYm9zTbbRLHkzhny5SHuQ46wr7DCCp2OnMdjOe2008zPf/5zIwWQXDA7fPhwc8kll0RH26V4bxVXnlp6+umnR/2cddZZ0ZcRedVuUzu3+oL9sssuM6+++qq59NJLU2Zgwc2Hh9f7LwAAIABJREFUDBnSkQ/14IEGzDIf2mTkN7lonF/5k4I9uR9bIIAAAnkLULCnzIAU7Kuuuqp56qmnoj+lMJViOj663ii8/P1bb70VFdbPPfeckQJEzjOV14ABA8wJJ5wQFeK17e655x7z2muvRYWxfCk46qijoiI83kZukxgX9lJMH3/88R1FfrOCXfp/4403Gp4SI6fHyFiaxZV+G43/mGOOMVIUrLfeepHB448/3tEuPiVGjrBPmzbN9OnTx/zzn/9MmYEFN19ttdU68qEePNCAWeZDm4z8JheN8yt/UrAn92MLBBBAIG8BCvaUGZCCXQrb+ALK+iPJ9eHrT1WJ/3vbbbc1W2yxhakteGtjSWEffxF46aWXOs4Hl/9fWwjHXxh++9vfGnmSZasj7K0K9to+pMCujyvjlS8VtV8epEivfdWPv3ac0q5///7RUfpNNtkkZRa+3vz55583I0eOzPSCVrXBFixQFvnQniL5dReV/N51110U7O6EbIkAAgjkJkDBnpJeCna5M4x8EMqr3RH2RqfMxKe3SMEeXwAan5ISF7ly4Vh8VP2OO+7oOB2m9ii2FNbxaTXnn39+qoJdzsePj443iysXs9YX7DKX+FQZ8YhP0an/YiF/t9dee5kDDzzQ/OQnP0mZha83v/vuu82tt97akQ+1wBUIlEU+tNnIr7uo5Pe+++6jYHcnZEsEEEAgNwEK9pT0UrBLIX355ZdHkZqdwy6F9OjRo81JJ51kTjnllI67t9QfYW9WsEvRLMXwiiuuaP7xj3+YwYMHR6ed1B/RtznCXlvkNzslpt0R9vjuM7UFu5xGU3s6ULsj7HLOvxxdP+KII1Jm4evN5fx7sY7zoRa4AoGyyIc2G/l1F5X8XnXVVRTs7oRsiQACCOQmQMGekr5Lly7RRZdShMcvKYgb3SVGitz6c9Prz2FvVbDHF3TGR63jI9+tzjWPT4mpbyNjTXMOe7uCfYkllojOoY/7aXSEXYr7OXPmRH5ar1NPPdUsueSSnfJRe4FufT/1v1AkHUez22K63CKz/tcJGctNN90U7TO2d/1pNv52p2rJdlnkI6lnu/bkt7GQbX7lwvK5c+e2Y+bvEUAAAQQKJkDB3iYhjz76qNl5552bturWrVt0p5Of/exnndrU34c9LrykUVx8NbtLTO1dWmrP+46P3seFf9xhu7vEyKkr8Xh69uwZ3c1GCmgp2OVUGykI5ZXkLjGNCvbVV1+94+430o/Ek3P7ZT71R+ylPznP/k9/+pO59tprrd8W7fIhvzzIfGvz4atgr70tZm0hb3u7TBmnvOI77kiM+JqG2LbdffXTFOwu+bBOnGVD8tv6uQlp8ytfouV5EXm92uU3r3HRLwIIIFB0AQr2NhmSWyzOnj07OrdcTmepfy277LLmlltuMbvuumvRc1248T344IPRT/QPPPCA9dja5WO33XYzRx99dKd81Bfs8Rcc+VLxwx/+0Hz88cedboVpe7vN9ddfP/qyU39bTPnFQMYQ///NNtvMbLzxxh1fjOTLk7ziL0rx5OsL9tqj6vW39pRiXn41eeGFF6Jbctbelaj27xpdQyD9SeEmdxOKvxzI/3PJh3XiLBuS368K9qzyO2jQIPPRRx9ZZkO/Wbv86vdIRAQQQCAMAQr2Nnm84YYboiPS8+bNM3K++hlnnNGpcF9mmWXMhAkTjBRlvJIJyFH+Qw45xEyePNl6w3b5kMJWrhWozUdtwR4XQrW3q5TO5deGCy64IBqHFLFS1NvcbrPVbTHj05tqf12Q+LIPxdcg1E680RH2OEZ8ipEcYY+/KDQ6xar24mS5xiGe+5prrhmdpjVixAgjp5U0OlLvkg/rxFk2JL/Z5neHHXYwM2bMsMyGfrN2+dXvkYgIIIBAGAIU7BZ57N69u5FzkuUlj0SPC/ehQ4caKdjlAUArrbSSRSSa1ApMnz7d9OrVy7z99tuJYFrlQ04dkVv/1eaj/iFT9bfBlP+OHyIVP4229ui23Me+2e02bQp2mZwUyVIsy34kXyjkdCG5BqG+YK+9w478XfxQrfrx1F7rUHvqjMSvv32mxInPcV5qqaWM/LJQf3Rf2rjmI1HyLBqT384POtPM77e//W0za9Ysiyxk16RVfhdddNHsOiYyAgggUGKBwhfsUtjEDwgqkrN8sOy7777RrQ+zePhPkeaa5VjWWmut6CFKaV9xPt58883oF4/6Qjh+Kmz9RaaNnvpau61ce9Dqdps2Bbucwy5fGuToZjzXRgVzs1Ni5J73/fr163gQloyv9m48tXfqefbZZzvdjjOeS3wakJzuI3cZavSFQdrW5kPed/JrgLxq34dZ//999tlngdtykt+vHpSWNr9yCl+eR9ibvc/j/N54441plwK2RwABBIIUKHzBXgT12iNCiy22WKcj7PIByBF2tyy5HtFtlY811ljD+Qi7PGFWiqL6B0DVX0Bae0cO24Jdtrn//vsjqEanw8RFuPxZe165fMGQJ9y2enJtkiOw8ak/8ReY2sy55sMt+823Ir/uR9jb5bdoR9jr11P5b14IIIAAAgsKULC32Svicy7lVmjxqTAnn3xyx1acw+7+tnI5Z7pdPtqdw157n/z4Qk6ZQf057LXnusspMc1ut2lbsMf9yrnk0lf96TCNCvbae/TXHmFvdQ67jKf29J34qL0c3Y9Plakdc+0dbFzy4Z79xluS39bnsKfNb1HOYW+2nmrvT8RDAAEEQhGgYG+TSbmrweeffx4VbLWFeryZr7vE5H2P7ix2eJe7krTLR5K7xMicak8Rkf+Wu6fEd4mJb8XZ6gh7s9tiSqz4tJf4Di6tbi8ZF+z157DLHWfkiHv9fdhb3UWk0W0+6++DHx+5L+JdYlq938jvV9cjbLPNNtFbstmThJvltwh3iWmV3yzWGWIigAACIQhQsLfJ4iOPPBLd+q/Zq9l92LV3jrzv0a09H4nnct/vdvlodB/2LMaeNGbteeb1p9wkjZVVe5d8aI+F/GqLfh1P8pv3fdjb5Te72RMZAQQQKLcABXvK/MmTTuWCPLkLSJavvO/RncXcsniyptztRU43yTofSTzio+Fyjnyji02TxMqybRb50B4v+XUXlfzKRcRffvmlexC2RAABBBDIRYCCPSW7nNd+1FFHmcsvvzxlpNab532P7iwmJ/e332STTcwRRxyhFl6eqioFctb5UBtwgQJlkQ/t6ZFfd1HJrzyobP78+e5B2BIBBBBAIBcBCvaU7FKw77333gvchi5l2AU2b3QOu897dGvPR+Lttdde5sADDzQ/+clP1MLffffd5tZbb808H2oDLlCgLPKhPT3y6y4q+b3vvvso2N0J2RIBBBDITYCCPSW9FOz9+/c3d9xxR8pIyY6wN7uDiETJ6h7d2hOULzpyMa8cZdd6/eUvfzHnnHNO5vnQGm+R4mSRD+35kV93UcnvPffcQ8HuTsiWCCCAQG4CFOwp6aVgX2211aI7N8ifWb3qT4mRfnzeo1t7XvKwqR133DG6x7j2S552mnU+tMecd7ws86E9N/KbXDTOr/zJKTHJ/dgCAQQQyFuAgj1lBqRgHzJkiNlggw2iP7N62T4FM6t7dGvP69JLL42eEHvJJZdoh46uKcg6H+qDzjlg0nzU3qKy9kFSje4vrz018ptcNM6v/EnBntyPLRBAAIG8BSjYU2ZACvbx48ebCy+8MPozq1ejc9h93qNbe15ydF3u5CIPctF+ya3jss6H9pjzjpc0H+3uKZ/lfMhvct04v/InBXtyP7ZAAAEE8hagYE+ZASnY5QPwG9/4hpk5c6bp2rVryojhbz5r1iyz4oormk8//TSzyZIPe9pm+ZAj5/fff7/5+OOPo2DxE1rlVCx5AI+85OFS8vRWeYqqXDtwyimnGHmC7KhRo8wLL7wQ/b2c9iQPhOrbt290Gpc8XTW+BiN+SFV8AbXErP1yGn8prZ8N+XXLb7xe2W9NSwQQQACBIghQsKfMQvwB+NOf/jS6+FT+4dVaQO7iMm7cOHPLLbdkRkU+7Gmb5UOK6/PPP9/cfvvtpv5hT41OiYkL9ri4l6eryhM5pWjv169f9NCebbfdNroXfe0pXvLFQE4nk34++OCDqPiXLwfykvuGy8Ow6vsnv275pWC3d6MlAgggUCQBCvaU2Yg/AKXIePTRR82NN96YMmL4mw8cONDsvvvuZr/99stssuTDnrZZPlqd9tKqYI+LcrkfvtwFSO6dLkfV42122WWXqGgfNmyY2XrrrTuOth9wwAHRoOOCvdX58OTXLb8U7PZutEQAAQSKJEDBnjIb8QfgRx99FP3k/8wzz6SMGP7mvXr1MhMnTjTdunXLbLLkw562UT7klJVmR7clcquCXQpvKcTbFez113zIkXgp5OtPuWn0dFjy65ZfCnZ7N1oigAACRRKgYE+ZjdoPQHliZ8+ePc3hhx+eMmq4m/t8UiX5aL8fNcuHFNujR482w4cPN42OdKct2OVOL3L0vf5Ul9oRx+e5x18A6mdDfpPnl4K9vRktEEAAgSIKULCnzErtB6BcnCf3YpeLT3k1FlhyySXN+++/b5ZYYonMichHe+Jm+ZDzyh977LHotJVGrzQFe/057PLlYMCAAebKK68006ZNiy5SlX7bHeUnv8nzS8He3owWCCCAQBEFKNhTZqX+A1BuVShFkNwtg1dnAbnjx7x586Kjtr5e5KO5dKt8yGkp8mp0Oor8//i0lUZ3iWl3SozErL9LTHw6TLP/32wW5DdZfinYfa089IMAAgjoClCwp/Rs9AHYpUsXM3v2bLPIIoukjB7O5uKx9NJLm88//9z7pMjHguR55kN7ByC/9vmlYNfe+4iHAAII+BGgYE/p3OgDUB7aM336dHPBBRekjB7O5r/4xS/MWmutZY499ljvkyIfC5LnmQ/tHYD82ueXgl177yMeAggg4EeAgj2lc7MPwB49epgpU6aY7t27p+yh/JvLlxe5E8nbb7+d22TIx9f0RciH9o5Afu3yS8GuvecRDwEEEPAjQMGe0rnZB6CckysF+7nnnpuyh/JvfsIJJ0RPv8zyvuvtlMjH10JFyEe7fCX9e/Jrl18K9qR7Fu0RQACBYghQsKfMQ6sPwIMOOsj06dPHHHjggSl7Ke/mcmvAp556yvz2t7/NfRLkw0S3aixKPrR3CPLbPr8U7Np7HfEQQAABPwIU7Cmd230AypFlKZI222yzlD2Vb/M///nP0SPni/QwKfJRrHxo79Xkt3V+261X2vkgHgIIIICAjgAFe0pHmw/AKt7Fosh3ISEfKXf6gm9OfpsnyGa9Knh6GR4CCCBQSQEK9pRpt/kA/N///V/Tv3//6Jz2qrzkCZbjxo0z3/nOdwo3ZfJRuJSoDoj8UrCr7lAEQwABBAogQMGeMgk2Bbt0cdttt5n777/f3HrrrSl7LP7m8uVEnly5zz77FHaw5KOwqVEZGPltzGi7XqkkgSAIIIAAAmoCFOwpKZN8AF511VXm+eefN7/5zW9S9lrczX/+85+brbbayhx66KHFHeT/jYx8FD5FqQZIfhfkS7JepcJnYwQQQAABVQEK9pScST8AR40aZR5//PEgj7TLkfWdd965FMV6nHbykfINUPDNyW/nBCVdrwqeXoaHAAIIVEaAgj1lql0+AOXn+rPOOsu8+OKLRi6QK/tLLjDddNNNzYgRIwp9GkwzZ/JR9j2w9fjJ79c+LutV2HsHs0MAAQTKIUDBnjJPrh+AU6dOjYrcP/3pT9FDhcr6kls3brvtttGXjyJeYGrrSj5spcrZjvx+lTfX9aqcWWfUCCCAQDgCFOwpc5n2A7BXr17m6KOPNvLQl7K95P7y11xzTaHus57WkHykFSz29lXPb9r1qtjZZXQIIIBAuAIU7Clzq/EBePDBB5sePXqYoUOHRn8W/TV9+nRz8cUXm3//+9+FeIKpthf50BYtVrwq51djvSpWNhkNAgggUA0BCvaUedb6ALzpppuign3QoEHmvPPOM4suumjKkelvLueqn3jiieaOO+4wF154odlvv/30OylIRPJRkERkNIyq5ldrvcooLYRFAAEEEGgiQMGectfQ/gC86KKLzEknnWROP/10c9ppp6Ucnd7mcpHsOeecY0aOHGmOPfZYvcAFj0Q+Cp6glMOrWn6116uU/GyOAAIIIGApQMFuCdWsWVYfgMOGDTOXXHJJVCAfeeSRKUfpvvkVV1wRHVU//vjjzfDhw90DlXxL8lHyBLYZflXym9V6FfbewewQQACB/AUo2FPmIMsPwE8//TQqlv/4xz+aDTfc0Oyxxx5m9913N0sssUTKUTfffNasWWbs2LFm3Lhx5uWXXzY/+MEPoi8NWfaZ2WSUA5MPZdCChatCfrNcrwqWToaDAAIIBCVAwZ4ynT4+AD/++GPzwAMPdBTS3//+96PiXf5Zc801U87AmP/f3p1AS1Ge+R9/USOiYiaiiUiOu4NxiSNuIS5cMQQlmkTyjxiVmByGEAGNjI4aUbkKmHEZNUZQY5hRkTNgIi4ZUeICV3FwXFATmRgXRCeKcUuMqCMu93+e0rrp23Tffqrrqaq33/r2ORwX3n6Xz1Nd/evqqurnnnsu6lv+yG0m4w8Ghx12mOvbt2/q/kPrgHqEVtHu6wm5vnnsr8LeOlgdAgggUIwAgT2lexFvgHfffXdXwN5rr73cBx984Pr371/3j9zVpd6fddZZxz366KNdHwCGDh2aUqR8T6ceYdc8pPoWsb8Ke+tgdQgggEA+AgT2lM5FvwH+7ne/c88++2zdQD5w4MDo1JZ6gX777bd3u+22W0oFnh4LUI+wt4VWr2/R+6uwtw5WhwACCGQnQGBPacsbYEpAno4AArkJsL/KjZqBEEAAAVMBAntKTt4AUwLydAQQyE2A/VVu1AyEAAIImAoQ2FNy8gaYEpCnI4BAbgLsr3KjZiAEEEDAVIDAnpKTN8CUgDwdAQRyE2B/lRs1AyGAAAKmAgT2lJy8AaYE5OkIIJCbAPur3KgZCAEEEDAVILCn5OQNMCUgT0cAgdwE2F/lRs1ACCCAgKkAgT0lJ2+AKQF5OgII5CbA/io3agZCAAEETAUI7Ck5eQNMCcjTEUAgNwH2V7lRMxACCCBgKkBgT8nJG+DHgHPmzHHHHnts9O/nnnuuO+uss1LK8vQ0AtQjjZ7/z222vuyv/K8tM0QAAQRqCRDYU24XZXwDlF9OnTVrljvnnHNcnz59ol9SrfzvqVOnuqFDh7r99tsvpS5P1whQD41S67axrG8Z91etW3lmjgACCPxNgMCecmtI+wZ4//33u1tuucX95je/cY8//ri7/vrr3THHHNPUrOSo24oVK9zZZ58dPX/JkiVNh+ae+qoOENWTledus802TY/d1OKNnkQ9jCA97abs9U27v/K0rEwLAQQQCF6AwJ6yxD29AVYG22XLlrn999+/a7Q4TEuAmD17trvkkkvcO++84yZPnuymT5/u+vXrV3dm8pxafcUhW05HaRSq487laHgc8IcPHx6d2iJj1+pLPkgcd9xx0QeL+DFu3Lho7nKkXR6Vz5N53nPPPd6cHkM9/KpHypfeWk+nvo3rS2C33uroDwEEEMhHgMCe0rneG+C7777rpkyZ4saMGeM222yzbkFcgqwEZQm3Tz75pFu5cmXXUXUJvyNGjHADBw6sObPXX3+9bl933HFH15FtGf+iiy5y48ePrxv+qwO1zEkeEvgrj5JX91Xvw4A8f7vttuv2DYEvp8dQj483J1/qkfJlt9bTqa+uvgR26y2P/hBAAIF8BAjsKZ3rvQH2dHRZQrccrY4vzEx6hL1yypV9SfCXU2KSHGGv7Kvyg4SE/3p9VQd2CUuTJk1yo0ePXus0GO2R/pRlaPh06vExkS/1aFiwhA2or66+BPaEGxbNEUAAAU8ECOwpC1HvDbCnI5kSmk488UR32WWXuddee63bOexJzzuv7Ovhhx/uOod99913d/Pmzat7pL7WsuWo+n333Red4jJ//nx1X9Wn6Ejf8Toqj3zW+9YgZQlUT6ceH1/P4Es9VEVL0Ij66upLYE+wUdEUAQQQ8EiAwJ6yGLXeAHsKRfHR6AMOOCA6yi5ht/KUmCTTqe4rzcWelcFfgnWavqrXUPRpGNSje0WKrkeSbVzTlvrq60tg12xRtEEAAQT8EyCwp6xJrTdAOU1l4sSJrr29vdsR7jhgDxgwoOt0mGYDe62+mg3ZEtZHjRrlZsyY0XVKS7N91eIsOiBSD32gS/lyKOTp1FdfXwJ7IZsogyKAAAKpBQjsKQm1R9jjc83lPO9mb9sYT9WyL/nAMGHChMSnzyRhKzqw1zoCa2lo2VcZ6pFk29G0pb4Eds12QhsEEECglQUI7CmrpzmHvfrUlTRDWvZVfRpMmnnVe64v50xXfmiwNLTsq0z1sN7WqO/Hoo1ebxxht97y6A8BBBDIR4DAntJZc5eY+JSTyvuXy7A9XWBaeT/zyila9lX58+bxGJX3Yk9JEz3dl7uSVN5FxNLQsq8y1cNi26rsg/p+rNHo9UZgt97y6A8BBBDIR4DAntJZcx/2Zu6OIqdZyJ1axo4dm3KGzln2lXQyRZ8OE8+30ZHHRuuyNLTsq9G8q//el3oknXej9tT3Y6FG9SWwN9qS+HsEEEDATwECe8q6aH/pNP4lUO1wcsRQHnIrvrQPy76SzMXnXzqlHkkq2RptGx1d7mkVlq8Ry76SyGtebwT2JKK0RQABBPwRILCnrAVvgCkBeToCCOQmwP4qN2oGQgABBEwFCOwpOXkDTAnI0xFAIDcB9le5UTMQAgggYCpAYE/JyRtgSkCejgACuQmwv8qNmoEQQAABUwECe0pO3gBTAvJ0BBDITYD9VW7UDIQAAgiYChDYU3LyBpgSkKcjgEBuAuyvcqNmIAQQQMBUgMCekpM3wJSAPB0BBHITYH+VGzUDIYAAAqYCBPaUnLwBpgTk6QggkJsA+6vcqBkIAQQQMBUgsKfklDdAHggggECrCHR2drbKVJknAggggMAnAgR2NgUEEEAAAQQQQAABBDwWILB7XBymhgACCCCAAAIIIIAAgZ1tAAEEEEAAAQQQQAABjwUI7B4Xh6khgAACCCCAAAIIIEBgZxtAAAEEEEAAAQQQQMBjAQK7x8VhaggggAACCCCAAAIIENjZBhBAAAEEEEAAAQQQ8FiAwO5xcZgaAggggAACCCCAAAIEdrYBBBBAAAEEEEAAAQQ8FiCwe1wcpoYAAggggAACCCCAAIGdbQABBBBAAAEEEEAAAY8FCOweF4epIYAAAggggAACCCBAYGcbQAABBBBAAAEEEEDAYwECu8fFYWoIIIAAAggggAACCBDY2QYQQAABBBBAAAEEEPBYgMDucXGYGgIIIIAAAggggAACBHa2AQQQQAABBBBAAAEEPBYgsHtcHKaGAAIIIIAAAggggACBnW0AAQQQQAABBBBAAAGPBQjsHheHqSGAAAIIIIAAAgggQGBnG0AAAQQQQAABBBBAwGMBArvHxWFqCCCAAAIIIIAAAggQ2NkGEEAAAQQQQAABBBDwWIDA7nFxmBoCCCCAAAIIIIAAAgR2tgEEEEAAAQQQQAABBDwWILB7XBymhgACCCCAAAIIIIAAgZ1tAAEEEEAAAQQQQAABjwUI7B4Xh6khgAACCCCAAAIIIEBgZxtAAAEEEEAAAQQQQMBjAQK7x8VhaggggAACCCCAAAIIENjZBhBAAAEEEEAAAQQQ8FiAwO5xcZgaAggggAACCCCAAAIEdrYBBBBAAAEEEEAAAQQ8FiCwe1wcpoYAAggggAACCCCAAIGdbQABBBBAAAEEEEAAAY8FCOweF4epIYAAAggggAACCCBAYGcbQAABBBBAAAEEEEDAYwECu8fFYWoIIIAAAggggAACCBDY2QYQQAABBBBAAAEEEPBYgMDucXGYGgIIIIAAAggggAACBHa2AQQQQAABBBBAAAEEPBYgsHtcHKaGAAIIIIAAAggggACBnW0AAQQQQAABBBBAAAGPBQjsHheHqSGAAAIIIIAAAgggQGBnG0AAAQQQQAABBBBAwGMBArvHxWFqCCCAAAIIIIAAAggQ2NkGEEAAAQQQQAABBBDwWIDA7nFxmBoCCCCAAAIIIIAAAgR2tgEEEEAAAQQQQAABBDwWILB7XBymhgACCCCAAAIIIIAAgZ1tAAEEEEAAAQQQQAABjwUI7B4Xh6khgAACCCCAAAIIIEBgZxtAAAEEEEAAAQQQQMBjAQK7x8VhaggggAACCCCAAAIIENjZBhBAAAEEEEAAAQQQ8FiAwO5xcZgaAggggAACCCCAAAIEdrYBBBBAAAEEEEAAAQQ8FiCwe1wcpoYAAggggAACCCCAAIGdbQABBBBAAAEEEEAAAY8FCOweF4epIYAAAggggAACCCBAYGcbQAABBBBAAAEEEEDAYwECu8fFYWoIIIAAAggggAACCBDY2QYQQAABBBBAAAEEEPBYgMDucXGYGgIIIIAAAggggAACBHa2AQQQQAABBBBAAAEEPBYgsHtcHKaGAAIIIIAAAggggACBnW0AAQQQQAABBBBAAAGPBQjsHheHqSGAAAIIIIAAAgggQGBnG0AAAQQQQAABBBBAwGMBArvHxWFqCCCAAAIIIIAAAggQ2NkGEEAAAQQQQAABBBDwWIDA7nFxmBoCCCCAAAIIIIAAAgR2tgEEEEAAAQQQQAABBDwWILB7XBymhgACCCCAAAIIIIAAgZ1tAAEEEEAAAQQQQAABjwUI7B4Xh6khgAACCCCAAAIIIEBgZxtAAAEEEEAAAQQQQMBjAQK7x8VhaggggAACCCCAAAIIENjZBhBAAAEEEEAAAQQQ8FiAwO5xcZgaAggggAACCCCAAAIEdrYBBBBAAAEEEEAAAQQ8FiCwe1wcpoYAAggggAACCCCAAIGdbQABBBBAAAEEEEAAAY8FCOweF4eg+oTYAAAgAElEQVSpIYAAAggggAACCCBAYGcbQAABBBBAAAEEEEDAYwECu8fFYWoIIIAAAggggAACCBDY2QYQQAABBBBAAAEEEPBYgMDucXGYGgIIIIAAAggggAACBHa2AQQQQAABBBBAAAEEPBYgsHtcHKaGAAIIIIAAAggggACBnW0AAQQQQAABBBBAAAGPBQjsHheHqSGAAAIIIIAAAgggQGBnG0AAAQQQQAABBBBAwGMBArvHxWFqCCCAAAIIIIAAAggQ2NkGEEAAAQQQQAABBBDwWIDA7nFxmBoCCCCAAAIIIIAAAgR2tgEEEEAAAQQQQAABBDwWILB7XBymhgACCCCAAAIIIIAAgZ1tAAEEEEAAAQQQQAABjwUI7B4Xh6khgAACCCCAAAIIIEBgZxtAAAEEEEAAAQQQQMBjAQK7x8VhaggggAACCCCAAAIIENjZBhBAAAEEEEAAAQQQ8FiAwO5xcZgaAggggAACCCCAAAIEdrYBBBBAAAEEEEAAAQQ8FiCwe1wcpoYAAggggAACCCCAAIGdbQABBBBAAAEEEEAAAY8FCOweF4epIYAAAggggAACCCBAYGcbQAABBBBAAAEEEEDAYwECu8fFYWoIIIAAAggggAACCBDY2QYQQAABBBBAAAEEEPBYgMDucXGYGgIIIIAAAggggAACBHa2AQQQQAABBBBAAAEEPBYgsHtcHKaGAAIIIIAAAggggACBnW0AAQQQQAABBBBAAAGPBQjsHheHqSGAAAIIIIAAAgggQGBnG0AAAQQQQAABBBBAwGMBArvHxWFqCCCAAAIIIIAAAggQ2NkGEEAAAQQQQAABBBDwWIDA7nFxmBoCCCCAAAIIIIAAAgR2tgEEEEAAAQQQQAABBDwWILB7XBymhgACCCCAAAIIIIAAgZ1tAAEEEEAAAQQQQAABjwUI7B4Xh6khgAACCCCAAAIIIEBgZxtAAAEEEEAAAQQQQMBjAQK7x8VhaggggAACCCCAAAIIENjZBhBAAAEEEEAAAQQQ8FiAwO5xcZgaAggggAACCCCAAAIEdrYBBBBAAAEEEEAAAQQ8FiCwe1wcpoYAAggggAACCCCAAIGdbQABBBBAAAEEEEAAAY8FCOweF4epIYAAAggggAACCCBAYGcbQAABBBBAAAEEEEDAYwECu8fFYWoIIIAAAggggAACCBDY2QYQQAABBBBAAAEEEPBYgMDucXGYGgIIIIAAAggggAACBHa2AQQQQAABBBBAAAEEPBYgsHtcHKaGAAIIIIAAAggggACBnW0AAQQQQAABBBBAAAGPBXq1tbV1Ll682HSKixYtcm1tbaZ90hkCCCCAAAIIIIAAAmUU6NXe3t7Z2dnp2tvbTdZ/zjnnOMv+TCZFJwgggAACCCCAAAIItKgAgb1FC8e0EUAAAQQQQAABBMohQGAvR51ZJQIIIIAAAggggECLChDYW7RwTBsBBBBAAAEEEECgHAIE9nLUmVUigAACCCCAAAIItKgAgb1FC8e0EUAAAQQQQAABBMohQGAvR51ZJQIIIIAAAggggECLChDYW7RwTBsBBBBAAAEEEECgHAIE9nLUmVUigAACCCCAAAIItKhAFNitfjQpNpgyZYrZDzG1qCvTRgABBBBAAAEEEEDARIAj7CaMdIIAAggggAACCCCAQDYCBPZsXOkVAQQQQAABBBBAAAETAQK7CSOdIIAAAggggAACCCCQjQCBPRtXekUAAQQQQAABBBBAwESAwG7CSCcIIIAAAggggAACCGQjQGDPxpVeEUAAAQQQQAABBBAwESCwmzDSCQIIIIAAAggggAAC2QgQ2LNxpVcEEEAAAQQQQAABBEwECOwmjHSCAAIIIIAAAggggEA2AvzSaTau9IoAAggggAACCCCAgIkAR9hNGOkEAQQQQAABBBBAAIFsBAjs2bjSKwIIIIAAAggggAACJgIEdhNGOkEAAQQQQAABBBBAIBsBAns2rvSKAAIIIIAAAggggICJAIHdhJFOEEAAAQQQQAABBBDIRoDAno0rvSKAAAIIIIAAAgggYCJAYDdhpBMEEEAAAQQQQAABBLIRILBn40qvCCCAAAIIIIAAAgiYCBDYTRjpBAEEEEAAAQQQQACBbAT4pdNsXOkVAQQQQAABBBBAAAETAY6wmzDSCQIIIIAAAggggAAC2QgQ2LNxpVcEEEAAAQQQQAABBEwECOwmjHSCAAIIIIAAAggggEA2AgT2bFzpFQEEEEAAAQQQQAABEwECuwkjnSCAAAIIIIAAAgggkI0AgT0bV3pFAAEEEEAAAQQQQMBEgMBuwkgnCCCAAAIIIIAAAghkI0Bgz8aVXhFAAAEEEEAAAQQQMBEgsJsw0gkCCCCAAAIIIIAAAtkI8Eun2bjSKwIIBCTQ0dHh2traTFe0aNEi8z4bTTCLdTQaM/77ItarnRvtEEAAAd8FOMLue4WYHwIIFC5wzjnnuM7OTtfe3m4yF+v+tJMq27haF9ohgAACvgsQ2H2vEPNDAIHCBayDrnV/WqCyjat1oR0CCCDguwCB3fcKMT8EEChcwDroWvenBSrbuFoX2iGAAAK+CxDYfa8Q80MAgcIFrIOudX9aoLKNq3WhHQIIIOC7AIHd9woxPwQQKFzAOuha96cFKtu4WhfaIYAAAr4LENh9rxDzQwCBwgWsg651f1qgso2rdaEdAggg4LsAgd33CjE/BBAoXMA66Fr3pwUq27haF9ohgAACvgsQ2H2vEPNDAIHCBayDrnV/WqCyjat1oR0CCCDguwCB3fcKMT8EEChcwDroWvenBSrbuFoX2iGAAAK+C/BLp75XiPkhgEDhAtZB17o/LVDI4/IrrtqtgHYIINCKAhxhb8WqMWcEEMhVwDroWvenxQh53JDXpq0v7RBAIFwBAnu4tWVlCCBgJGAdBq370y4z5HFDXpu2vrRDAIFwBQjs4daWlSGAgJGAdRi07k+7zJDHDXlt2vrSDgEEwhUgsIdbW1aGAAJGAtZh0Lo/7TJDHjfktWnrSzsEEAhXgMAebm1ZGQIIGAlYh0Hr/rTLDHnckNemrS/tEEAgXAECe7i1ZWUIIGAkYB0GrfvTLjPkcUNem7a+tEMAgXAFCOzh1paVIYCAkYB1GLTuT7vMkMcNeW3a+tIOAQTCFSCwh1tbVoYAAkYC1mHQuj/tMkMeN+S1aetLOwQQCFeAwB5ubVkZAggYCViHQev+tMsMedyQ16atL+0QQCBcAX7pNNzasjIEEDASsA6D1v1plxnyuCGvTVtf2iGAQLgCHGEPt7asDAEEjASsw6B1f9plhjxuyGvT1pd2CCAQrgCBPdzasjIEEDASsA6D1v1plxnyuCGvTVtf2iGAQLgCBPZwa8vKEEDASMA6DFr3p11myOOGvDZtfWmHAALhChDYw60tK0MAASMB6zBo3Z92mSGPG/LatPWlHQIIhCtAYA+3tqwMAQSMBKzDoHV/2mWGPG7Ia9PWl3YIIBCuAIE93NqyMgQQMBKwDoPW/WmXGfK4Ia9NW1/aIYBAuAIE9nBry8oQQMBIwDoMWvenXWbI44a8Nm19aYcAAuEKENjDrS0rQwABIwHrMGjdn3aZIY8b8tq09aUdAgiEK0BgD7e2rAwBBIwErMOgdX/aZYY8bshr09aXdgggEK4Av3Qabm1ZGQIIGAlYh0Hr/rTLDHnckNemra+2XUdHh2tra9M2N223aNGiwsY2XQidIZCzAEfYcwZnOAQQaD0B6zBo3Z9WNORxQ16btr7adlhppWiHgD8CBHZ/asFMEEDAUwHrgGPdn5Yt5HFDXpu2vtp2WGmlaIeAPwIEdn9qwUwQQMBTAeuAY92fli3kcUNem7a+2nZYaaVoh4A/AgR2f2rBTBBAwFMB64Bj3Z+WLeRxQ16btr7adlhppWiHgD8CBHZ/asFMEEDAUwHrgGPdn5Yt5HFDXpu2vtp2WGmlaIeAPwIEdn9qwUwQQMBTAeuAY92fli3kcUNem7a+2nZYaaVoh4A/AgR2f2rBTBBAwFMB64Bj3Z+WLeRxQ16btr7adlhppWiHgD8CBHZ/asFMEEDAUwHrgGPdn5Yt5HFDXpu2vtp2WGmlaIeAPwIEdn9qEdxM3n//fXfttde6ww8/3H3uc58Lbn0+LujJJ590559/fmT+zW9+062zzjo+TrPl5mQdcKz704KGPG7Ia9PWV9sOK60U7RDwR4DA7k8tgpzJtGnT3PLly92ll15KaM+4wm+//bb7+c9/HoX1OXPmuO23394dffTRhHYDd+uAY92fdokhjxvy2rT11bbDSitFOwT8EYgCe3t7u+mMpkyZ4qz7NJ0gneUi8O6777qLL77Y7b777u6WW25xEt450p4N/cqVK91//Md/uL59+7qJEye6Dz74ILLfcsstCe0G5NYBx7o/7RJDHjfktWnrq22HlVaKdgj4I8ARdn9qEdxMJLB3dHS4YcOGuQcffND927/9G6E9gyqvWrXKzZgxww0ePNj98pe/dCeccILbc889o9B+xRVXuLa2NrfbbrtlMHJ5urQOONb9aSsR8rghr01bX207rLRStEPAHwECuz+1CH4mS5cuJbQbV/n111+PjqR/+ctfdl/72tfcn/70Jzd58mR3/PHHR6Gdh42AdcCx7k+7ypDHDXlt2vpq22GllaIdAv4IENj9qUUpZvLQQw+5Xr16ub322qsU6816kZ2dnW7RokXuhhtucOedd57bdNNNo9A+ffp0d9ppp7kBAwZkPYVS9G8dcKz70xYh5HFDXpu2vtp2WGmlaIeAPwIEdn9qEdxM5JSYyy67zB166KHui1/8YnDr82VBcWi/6aabnLwRS2jnYStgHXCs+9OuNuRxQ16btr7adlhppWiHgD8CBHZ/atHyM5Eju3K0V07PkItLL7jgguhOJd/5zneio+o87AXiD0WHHHKIk9NjbrvttuiCb7n4lIedgHXAse5Pu9KQxw15bdr6atthpZWiHQL+CBDY/alFS8/kxRdfjM6llgsfb7755uh0jM033zwK7oR1u9L29KFIRnnvvffcBhtsYDcgPUUC1gHHuj9tmUIeN+S1aeurbYeVVop2CPgjULrA/uabb7p77rnH7bTTTtEfwmT6jfHVV1911113ndt7773dgQce2HXh40knneR23XXX9APQQyTAh6LiNgTrgGPdn1Ym5HFDXpu2vtp2WGmlaIeAPwKlCux//etfo1+B3GOPPaJTB0aPHu0OOuggQnvK7VFOy5DTX7bYYgs3duzY6Id65EiwvCmcccYZ7vOf/3zKEXg6H4qK3QasA451f1qdkMcNeW3a+mrbYaWVoh0C/giUJrDLr0DOnTvXbbzxxm7UqFFO/vuss85yhx12WKrQLudsDx061J+K1pjJJZdc4uRod5YPCe0XXXSR23bbbRP9UA9+uqqk/VCEs865XivrgGPdn3Z1IY8b8tq09dW2w0orRTsE/BEozS+dyo/IXHvttW7FihXu7LPPdr17945Cu/z7cccd19RdTOQXXd955x03adIkfypaMRMJ6g888IA7+OCDM/vl2Y8++sjJaUYbbbSR+/DDDxOFdvySbTbNfijCOZlzrdbWAce6P+0KQx435LVp66tth5VWinYI+CNQmiPsQh6H9tdeey064iyhvdlHK4Sg9dZbLzrdZ/31188ksMtpGqeccop76qmnog8/l19+eXQeu9ytpNFpMPgl2/JWr14dPWHdddcN7kNR1ttpMunara0DjnV/2jWGPG7Ia9PWV9sOK60U7RDwR6A0gT0OPHIHDTnSnia0t0rYlPPHf/KTn2QS2OVor9w+8Jvf/GZ0Z5hly5ZF91z/6U9/6j796U/3uIXjp98ByIfMK6+80l1zzTXRtznf//733Q9/+MPoW41QPhRluZ3qpXtuaR1wrPvTrjPkcUNem7a+2nZYaaVoh4A/AsEH9lqB54QTTnAvv/yy23rrrRNfcNpKYVM2s6wC+x/+8Ac3a9as6MLSPn36uLfeesv9+Mc/dmI7cODAuls4fsle/HLdhXy4lJAuHzpPPvlkN378eLfnnnsG86Eoy+00mXb91rUCjnyTdMwxx7iFCxfWfeLw4cPdnDlzXL9+/bq1KVtgymO9eYxRq9BFjZtm2y5qzkWNm8aK5yLgi0Dwgb3ZwFOrQK0WNrMMQhIi5dx9Mdlhhx2cHHGXfx8zZkzdwI5fspd9LdOrrroqunBagmK9B87JnDWtkwQNqZu8NqRW5557bnRxe/UjSX+a+WnbhDxuyGvT1lfbDiutFO0Q8Ecg6MDebOAJJaxnGdil7z//+c/R6S9yG8f4FBm5raME+Mcee8z93//9n9t3332jbzFaMURm7ddoN9DZ2emmT5/udtxxx+jORvKQo7XyqBfYcW6k2tzfawOOfPMU12revHl1P7xq+2tutvWfFfK4Ia+N7cBagP4QaD2BoAN7M4EnpLCeZ+CU0wMmT54cBcyVK1e6qVOnumnTpkU/nNSqITJPv3q7DrmYVz4QyWlHcWCXizQlFL7xxhuuo6PDjRgxIrqAGufsdsCaMCjbvNx1qt5R9crZafrLYjUhjxvy2qy3BaysRekPgewFgg7swpck8IQW1vMMnHFgl4tQ5SLJEMJ6nn7al7qEQrnv/xe+8IXomoEDDjgguu+9vAH7fotR+aAhF5jWemR1rYXWtVG7ngKO9qg6gb0zk7tVxa6E0EZb8d/+Hiu9FS0R8EUg+MBeDV0v8MhRzOpHKx+xjNeSVxCSu5bI6TAvvfRSFNhb/ch63n7aHYJsv7vvvnv0S72hhHUfPxhV16NewElyVJ3ATmDXvs6zbkdgz1qY/hGwFyjNDyfFdLUCT6hhPc8gJKcfya0H5T7soYT1PP20L235MSy5daZ8gxHCkXVfPxhpAjt3idFutS76Bkj2EXIr2KweeYxRa+5FjZvGsag5FzVuUqtnn33W3Xrrre7xxx+Pfmxx1apV0Z3l5NG/f3+3xRZbuO233z46ePL1r3/dbbfddkmHoD0CiQVKd4S9OvCEHNaLCpwhfDPha5B85JFH3NNPP+2OPPLIlj8NpnJvldc3QYn3kJ88wTpoWPenXVfI44a8Nm19te2wWltKbpxw6aWXutmzZ7s1a9ZEQVy+xdxss826Qro8Kw7vcqe0e++9Nwr2co3R6NGjU/8go7Z+tCunQOkCe2XgCT2sFxHYQwrrRfhpd0M4a6Vs2lkHHOv+tKsMedyQ16atr7YdVt2lZH964YUXuosvvtgNGTIkukYoyWP58uVReJfbucp1OnLxOQ8ErAVKF9h7AgwtBOUdOPGzfnnW7g/nfJwrR6kVcCrvjCQ/jFT9Y2LVf9+ovzxWFXJQC3lt1tsGVh+L/upXv4pukSt3OLMK2XH4v/76693IkSOtS0d/JRYgsH9S/BBDUJ6BHb989iI45+NcPQqBPZ17HgExjzFqKRQ1bpqKFDXnosatZSU/aCant8ycOdOtv/76aTjXeq6cXnP88ce7bbbZJtPrNkwnTWfeCxDYnWvp+1c32sLyODc41BCZ5weeRnWUv8dZo5RNGwJ7Otc8gloeYxDY/d8ONDP8xje+Ed0g4cwzz9Q0b7qNbJNy4er8+fOb7oMnIhALlD6whxyC8gic+OWzM8E5W+dXX301uiWp3PVBG8o4JUZfkzzCdB5jaLcNvUwxLctsNXHiRLfbbru5cePG5YI/Y8YM98wzzzi54QUPBNIIlDqwhx6Csg7s+KV56emfi7PeqtmWP//5z90JJ5zg9tlnH3f55ZevFdw5wt6s7MfPyyMg5jEGgd3/7aCnGf7gBz9we+yxR3S6Sp4PCe1yYaqcfsMDgWYFShvYyxCCsgzs+DX7kkv2PJyTeaVpvfnmmzu5VdvGG2/s/uEf/qFbcK8X2OWCtYULF9Yddvjw4W7OnDlOLkqtfJQtXOax3jzGILCneYXl88Gt3gzlg7hcGP6zn/0s3SKafLZ8SJBv8H74wx822QNPK7tAKQN7WUJQVoEdv3x2Gzjn4xyPcu2117oJEya4t99+O/pfcXCXo+833HCD6Q//lC1c5rHePMYgsKd7TRZVo4ceeshddtll0T3Wi3wce+yx7uSTT46O8vNAIKlA6X7pVH4l8qSTTkrqlGv7f/mXf3Hjx49vOKZ8fX/EEUdEf3baaaea7eUruN69e5utOSQ/+UXW/fbbz331q1913/rWt3Lxa1jUTxqE5LzJJptol114u09/+tPuzTff7DaPDTfc0J166qlrBfaebtvYaCFFBZeQxw15bY22p6R/Xzargw8+OLp149ChQ5NSmbb/zW9+4/71X/+1x2/lTAeks6AEgjvC3szFYz5VVHak7733nvvxj3/ccFpPPvmku+mmm6I/8qgO7xL811tvvej8UatHUTt67fyT+L3wwgvu/vvvj67iFyt5/PGPf3QdHR1RkJ87d665X5J1ZP1T7tq51GqXxLnROFlsp43GrPX3tY6wy1fYcoT9l7/8JYG9GdRPnpPHfkM7xvvvvx+d7nTHHXd0W9FWW23lLrjgAveZz3wm0Uq14ybqNOPGSef8+9//3v3pT3/qNis54CG/AprkkXTcJH3Xa3vnnXdGP4okYdmHh3xokFtKHnTQQT5Mhzm0kEBwgb2Zi8d8qlezQag6vMv5uLJDtb7IpYgdbpL6NOsXj/HGG29ER2Juu+02J2/gEublIadJbLTRRkmmkqpt6M4xji9hXeZTeQ67BHUJdXIuuzw0F50mKXhR9Q153CRrk9ezvFd873vfSxzQq+ucZNwk20iWbZPO+dZbb432h/3794+Cr4TNz372s4nvX550XAuDQw891J1//vnui1/8okV3qftYtmxZFNjlPYYHAkkEggvs1W+8movHkoBl3TZt4JT5yTlyTz31lJNvG+Tx7W9/2x155JFu5513Tj39Ina4SSZt4ReHSLn9l4Q4edx8883uRz/6UfSz1XI3EbmHb5aPMjlbfgPUbE2uvvpqJ/WWulYG9bi/eoGdi0514nlsz0nHkCPG6667buKjxGUM7PINk5w6KKe33XLLLdF+MOk3EfU++Oq2oOZayQGX4447zj322GPNdZDRs+Rg2rx589wuu+yS0Qh0G6JAkIE9z4vHrDeKtIGz+ojl//zP/0Rf58tFc9rw/r//+7/REQkJLq325mTtV7l+OYVGTpfZYIMNog9B8pCdrvyqnRxx2nrrrRNtDmvWrKl7hCpp+Eg0sEHjLJ0Nppe4i1deeSW6D3t8RF2z3ZfhHHY5En3jjTc6Wauccie/3NjMI4/tudkxnn/++ejbs6Snd/T0Ya4Zozyfk9RK3hOuueaa6CCQBOA999yzqekmHbepQSqeNG3atOgU06lTp6btyvT5csqrXC9z+umnm/ZLZ2ELZBLY29vbC1dLcvFY4ZOtmECaINTo9IIk4V3Off/85z/vVq5c2Y0n7x1u0tpk6VdrLo888kj0wWbRokVOLhSVX9CThxy9+9znPtfj9H/xi19ER3WlrWyvlQ+ck1Y+2/ZlPSVGDn7IBXvyTdP111/vRo4c6e2R1WZfM3LbTfkgItetNPNodtxmxrJ6TjNzllsiyqmX8T6umbk0M24z48TPkRszyD3Qs/5GNOkcly5dGn0T/l//9V9Jn0r7EgtkEtiLvlgu6cVjPtW/2cDZKKxXr7FReJejxXJEWd7Innvuua6n573DTVqbvPxqzavyPPfvf//77p577omOvMsv3NX6+lh21nKfbrkIbsmSJW6vvfbCOWnBc2rfKoHd+qJ7Obq+7777RoF9wYIFUXhv5q4/FvsN67XFm46c4iEHJ1rlqLFmk8/CyrfA3miNq1atcvJDSb/+9a81ZLm3GTFihJOsEp92mfsEGLDlBIIM7EkvHvOpas0EzqRhXRPeZScnF8fIozK0W7zxZuldhF+99cgHHjnyLqFdLtiSh5wHL6ddxKfQrLPOOtH//7u/+zt30UUXuTFjxkT/jXOWW0nyvq3rYd1fvCLri+7lwrgnnniiG5gcZd9xxx0TIVqs13ptiRbQQ2OLtVnNJavt4KOPPoq2g7feeivafzV7Ab6lVaPt4cEHH4yuN/rv//5va16T/uQAzVVXXdX0B0WTSdBJSwkEF9ibuXjMp4olDZxpw3q98C53l5HzeuNHHNotd7hZuBft12hNcj3B7bffHgV5+eZC3vziO9FIaJcf7pHzLnFuJJnv37fKEXZRSfqLrXlIWm3PlmuTW7ruv//+XcuXb7maOS3Gam3WdbC0uu6669wOO+zgBgwY4H71q1+5sWPHFvZNS6VTT2uUO9vMmjUrukjWx8fhhx/uxo0b5w477DAfp8ecPBQILrA3c/GYT3VJEjitw3rsIL/GNn/+/OhiysqHnJMtP69c9ClPPdXLBz/t9iTng37pS1/q9kM98iNXctqBnHuJs1Yy+3atFNitLrqXUyBGjRoVfaCU21zKBdYDBw6MsJNecGsVaq3WVj3/pOup3OKs1ma9FVtZybwq7xKzcOHC6DQpH+4S09Ma7733Xvfoo4+6K6+80prWpD8J63Ialpy2wwMBjUDpfunU151rXCxt4MwqrMutuxYvXux69eoVfe0p51fLudlbbrlldIRFdjB9+/Z1PlxYXGsDL9pP86KTNh9++KH71Kc+FYXy+CFH2OUrZ7l+4Lvf/W4QgT2r7VTrbNUui8Ce5Wso7UX38mF90qRJ7oADDnBy68r4aLRceCr/nTTgip/VetOuLd4m5NtYOb2nX79+0XrkW8VTTjnF9enTJ9FmU722yte07EfjR9r/X+/5PU3W0kquyRGb1atXu0033TT6NnC33XZLZZXoyXUa11vjeeedF+1Dff1lc7lJgc/zs6gNfdgKBHeEvRFPCIE9qxD07LPPun/6p39y2223XRTO5TxV+bPtttt2seLXaAvT/b18lSsfhOQcdvlBD/ladPDgwdEfuW0kzjrHvFrVC+w+3ofd4qL7WscWhGEAACAASURBVIFc/p+sd/To0e6QQw6JfmBs+vTpUeBt9LDani3WJnON1yJHi6sfciG43DlGsy55rtXaGhkm/Xsrq6Tj9tTe2qqnNd53330cYbcsHn0VLkBgL7wE3SfQ6AhxVmFdy2C9w9WOq23nu1+8Dvm5bLkuoN7FezhrK55PuyyOsGd1ypPFRffxEXYJ55XndcdBV0KtnDKTd2C3WJv1FuPra9XKysdTo+Ia9rRGzmG33tLpr2gBAnvRFagav6fAWXRY9/loUszou592c/M1BITmnKYeSU8LqRwrq/paXnRfeURdjqxXPuSHaOQ0Ge2RaIv1Wq4tXotFGLVYm3Y71Lazssri1CirD6qN1vjQQw9Fp+3I3WJ8fMjppbKGQYMG+Tg95uShAIHds6LUC5w+hPVWDuy++Gk3Nx9DQHXglF8QlF/sq3y0mnOaevgY2H296N5ie7Zem1UYtVibdjvUtrOy8vXUKHFotEa5D/s//uM/Ork1qY8PuQ+73H2n2V/Y9XFNzClbAQJ7tr6Je68V2H0KQT6+OTUKkj75aTcInLVS+bRLWo/4yO0WW2xR8yh00v6sVhnyuEnXZhVGk45rVcs0/Wjn7OupUdq1y91sfvazn0V33fLpIT+a98///M/Rt1Q8ENAKENi1Ujm1qw7svoVN7Y4+J661hvHdT+uCs1Yqn3aaelSeXiGziu+oUmuGmv6yWFnI4yZdm1UYTTpuFnVN2meSOft2alSStco1FlJn+W0Lnx6nn356dFvM0047zadpMRfPBQjsnhWoMnD6FtaFKsmOvgha3/20JjhrpfJpV68elSFd7qt8ySWXRL9YO3To0B5/hKeo+oY8bjNrswijzYybz1Zbf5Si5pz3uL/73e+iOxv99re/LZq82/g777yzu/HGG90XvvAFr+bFZPwWILB7Vp84cMr9e9dbb70oIPv0yHuHm3Ttvvtp14OzViqfdrXqUe8cdrkgk8DevS55bM95jOHTtyVptvwyWcktSOXgl/yqtA+Phx9+2E2ZMsXbc+t9MGIOtQUI7J5tGbIjvfvuu91BBx3kXVhvlSPsPvtpN7ei3lCTzC8E5yTrrXV3i+r7ectpMCtWrCCwV8HmsT3nMQaBXfuKqd2uiBrJfuonP/mJu+uuu9JN3ujZbW1t0Xv7kCFDjHqkm7IIlC6wd3R0OHnB+Py4+OKLo18Z9PGBXz5VwTkfZ+0o2qAhtzk89thju7pdsmRJzVNjtP1p56dtF/K4Ia9NW19tu7JZyS94y0Wew4YN0xJl0u7222+PLoJdsGBBJv3TadgCUWC3+snomEq+7rHuM+wysDoEEPBZoJmAI+F99uzZ3CUmp2tfmqmRxTZX1Lhp5l7UnIsad9myZdH1JfJ6LPJx9NFHRxea7r777kVOg7FbVKB0R9hbtE5MGwEEChRoJmj0dJ/2ZvqzWH7I44a8NovaV/ZRRqsrrrjCyUWoM2fOtOZU9feDH/zA7b333m7s2LGq9jRCoFqAwM42gQACCDQQaCbgENj/htqMX9KNMo8xas2pqHGT+pQ9sMv6jz/+eLfrrrtGv4Ca5+OnP/2pe+aZZ6LTYXgg0KwAgb1ZOZ6HAAKlEWgmlBHYCey+vkCa2Z4t1lLUuJVzl+vDtt9+ezdx4kSLJTXsQ8L6H//4R3fhhRc2bEsDBHoSILCzfSCAAAIcYc90G8gjqOUxBkfY020mRdWoetbf+ta33G677Zb5tXZnnXWWk99quOGGG9LB8WwEnHMEdjYDBBBAgMCe6TaQR1DLYwwCe7rNpKga1avbypUr3YwZM9yGG26YbmFVz37rrbei02922mknd+aZZ5r2TWflFSCwl7f2rBwBBJQCtYJG9T3Ya3U1fPhw7hLDXWKUW1l+zYoKzkWNW0/25ptvjn4J9eSTT3bnnnuuSQEmT54cnasud4k6/PDDTfqkEwREgMDOdoAAAghkcIS9py6LCi4hjxvy2qxfoFh1F5VfJ5Y/cuvHAw88MDpdJsnj8ccfd/fdd5876aSTouB/xhlnJHk6bRFQCRDYVUw0QgCBMgtYBxzr/rS1CXnckNemra+2HVZrS73//vtRYJdfK/7rX//qvv71r7sDDjjAbb755m7LLbeM/sjjpZdeiv689tprTn7g7tZbb3Wf+cxnoh9Mkwta1113XW0ZaIdAIgF+OCkRF40RQKCMAvVOiZGvv6dPn+769euXiKVsgSmP9eYxRq0iFzVuog2uqnFRcy5q3KRWzz//fBTEH3vsMbdixYqukC79xOF9hx12iH4ASYL9VlttlXQI2iOQWIAj7InJeAICCJRNQBPY5W4Qs2bNctK2T58+PRIVFVxCHjfktVm/3rCyFqU/BLIXILBnb8wICCDQ4gIE9nQFzCMg5jEGR9j93w7SzZBnI+CvAIH9k9rceeed0Y8pbLfddm758uXu7rvvduPGjXO9e/duunryVdqzzz7rhg0b1rCPv/zlL27q1Oluz732dEd/5yj39NPPuBdeeMEdfPDQtZ7b2dnpli171M2ff5Mb/OXB7qC2Ie7f//3aaK5jx45pOFYWDfDLQnXtPnHOx7l6FAJ7Ovc8wnQeYxDY/d8O0s2QZyPgrwCB/ZPa3HLLLdE9U+XCkwULFkQ/XbzRRhu5Dz74wMk9VeXf11tvPffuu++6jz76yH3qU59yEpzXrFnj1l9//a6vwFevXu0+/PBDt8kmm7innnrKPfnkk+4b3/hG1xYgF6r8+tf/6f7ylzfdzjt/wQ0f/tXo79544w139dWz3IknTnSPPLLMXXfdbHfIoYe4kUd8c62t5/XX33C33bbAHX30Ue6mm252O+64Q3QO3a2//k/3veO+W8jWhl8+7Djn46wN7HJLuIULF9adFLd1/JgmjzCdxxgE9nSvv6JqlG7WPBsBPwQI7BWBXcK3XGQiF5LJDym8+uqr7sorr3R77723e/jhh538OtpFF10U3fZJjsbPnTs3Onr+wAMPRD+SsGzZsug5G2ywQfRHbg0l57XGgf3tt992N9zwS3fUUaPWOse1MrC/99577pVXXnVPP/OM+9qIQ+tuKb///e/d7bcvdMcee3T0YaLowI5f9i9qCew4Z++sCexpZlFUcAl53JDXlmZb8+lDRlE1svajPwSKECCwf6IuP3IgV4bLxWKDBg1yQ4YMcffff3/0Z5999nESjvv27ev+/Oc/u/Hjx7tnnnkmCvFyhE1C1DbbbOPkRxgk3Et4Xrx4sRs5cqR78cUXuwL7iueec1fMvLLr9lD1jrDLHKT/Pzz1dN3ALkf333zzTbdgwe3Rhwc5yl5kYMcvn5cvzvk4E9htnfMIanmM4VP4TVMhrNLo8VwEihEgsFccYZdTYvr37x8dRZdQLj9bLPdblfAu4VhOl7n33nvd2LFjoyPn8ekuEti33Xbb6Lx3OQovR9cl2MupMU8//XRXYJdTWaTNt7/9/1yvXr26VbzyCHujwC5H8VeseM7tu+8+7qmnnnYPPvigGzHi0EIDe3yqBn7ZvpBxzta3Xu/WAce6P61KyOOGvDZtfbXtsNJK0Q4BfwQI7FWBfeDAgdHRdPnxhB/96Efu6quvdgMGDIguHj366KPdkiVLagZ2CfuvvPJK9Pdy8acccd955527nRIjR8UX3H6H++3jv41CvfYIu5ym8+JLq7qOtst59ddcc5378KMP3crnVrpx437gNtmkrxeBHb9sX9xxYMc5W2eOsNv65hEQ8xiDI+zptouiapRu1jwbAT8ECOx+1KHbRafV93B++eWX3fMvvOD23WefbrOVI/5y+o0crZcj9EWeElM0Y/U3FJXzwc+uOmV1tg4a1v1pKxzyuCGvTVtfbTustFK0Q8AfAX7p1JNayN1l5IJUOZof3zkmnprclUZCefVpNPHfy0WIt9766+gc++rnerK8zKeBX+bE0QBldbYOONb9aasf8rghr01bX207rLRStEPAHwGOsPtTC2aCAAKeClgHHOv+tGwhjxvy2rT11bbDSitFOwT8ESCw+1MLZoIAAp4KWAcc6/60bCGPG/LatPXVtsNKK0U7BPwRILD7UwtmggACngpYBxzr/rRsIY8b8tq09dW2w0orRTsE/BEgsPtTC2aCAAKeClgHHOv+tGwhjxvy2rT11bbDSitFOwT8ESCw+1MLZoIAAp4KWAcc6/60bCGPG/LatPXVtsNKK0U7BPwRILD7UwtmggACngpYBxzr/rRsIY8b8tq09dW2w0orRTsE/BEgsPtTC2aCAAKeClgHHOv+tGwhjxvy2rT11bbDSitFOwT8ESCw+1MLZoIAAp4KWAcc6/60bCGPG/LatPXVtsNKK0U7BPwRILD7UwtmggACngpYBxzr/rRsIY8b8tq09dW2w0orRTsE/BHgl079qQUzQQABTwWsA451f1q2kMcNeW3a+mrbYaWVoh0C/ghwhN2fWjATBBDwVMA64Fj3p2ULedyQ16atr7YdVlop2iHgjwCB3Z9aMBMEEPBUwDrgWPenZQt53JDXpq2vth1WWinaIeCPAIHdn1owEwQQ8FTAOuBY96dlC3nckNemra+2HVZaKdoh4I8Agd2fWjATBBDwVMA64Fj3p2ULedyQ16atr7YdVlop2iHgjwCB3Z9aMBMEEPBUwDrgWPenZQt53JDXpq2vth1WWinaIeCPAIHdn1owEwQQ8FTAOuBY96dlC3nckNemra+2HVZaKdoh4I8Agd2fWjATBBDwVMA64Fj3p2ULedyQ16atr7YdVlop2iHgjwCB3Z9aMBMEEPBUwDrgWPenZQt53JDXpq2vth1WWinaIeCPAIHdn1owEwQQ8FTAOuBY96dlC3nckNemra+2HVZaKdoh4I8Agd2fWjATBBDwVMA64Fj3p2ULedyQ16atr7ZdR0eHa2tr0zY3bbdo0aLCxjZdCJ0hkLNAFNjb29tNh50yZYqz7tN0gnSGAAIIJBCwDoPW/WmXEvK4Ia9NW1/aIYBAuAIcYQ+3tqwMAQSMBKzDoHV/2mWGPG7Ia9PWl3YIIBCuAIE93NqyMgQQMBKwDoPW/WmXGfK4Ia9NW1/aIYBAuAIE9nBry8oQQMBIwDoMWvenXWbI44a8Nm19aYcAAuEKENjDrS0rQwABIwHrMGjdn3aZIY8b8tq09aUdAgiEK0BgD7e2rAwBBIwErMOgdX/aZYY8bshr09aXdgggEK4AgT3c2rIyBBAwErAOg9b9aZcZ8rghr01bX9ohgEC4AgT2cGvLyhBAwEjAOgxa96ddZsjjhrw2bX1phwAC4QoQ2MOtLStDAAEjAeswaN2fdpkhjxvy2rT1pR0CCIQrwA8nhVtbVoYAAkYC1mHQuj/tMkMeN+S1aetLOwQQCFeAI+zh1paVIYCAkYB1GLTuT7vMkMcNeW3a+tIOAQTCFSCwh1tbVoYAAkYC1mHQuj/tMkMeN+S1aetLOwQQCFeAwB5ubVkZAggYCViHQev+tMsMedyQ16atL+0QQCBcAQJ7uLVlZQggYCRgHQat+9MuM+RxQ16btr60QwCBcAUI7OHWlpUhgICRgHUYtO5Pu8yQxw15bdr60g4BBMIVILCHW1tWhgACRgLWYdC6P+0yQx435LVp60s7BBAIV4DAHm5tWRkCCBgJWIdB6/60ywx53JDXpq0v7RBAIFwBAnu4tWVlCCBgJGAdBq370y4z5HFDXpu2vrRDAIFwBQjs4daWlSGAgJGAdRi07k+7zJDHDXlt2vrSDgEEwhXgl07DrS0rQwABIwHrMGjdn3aZIY/b0dHh2tratBSm7RYtWlTY2KYLoTMEEPBWgCPs3paGiSGAgC8C1kHXuj+tU9nG1brQDgEEEPBdgMDue4WYHwIIFC5gHXSt+9MClW1crQvtEEAAAd8FCOy+V4j5IYBA4QLWQde6Py1Q2cbVutAOAQQQ8F2AwO57hZgfAggULmAddK370wKVbVytC+0QQAAB3wUI7L5XiPkhgEDhAtZB17o/LVDZxtW60A4BBBDwXYDA7nuFmB8CCBQuYB10rfvTApVtXK0L7RBAAAHfBQjsvleI+SGAQOEC1kHXuj8tUNnG1brQDgEEEPBdgMDue4WYHwIIFC5gHXSt+9MClW1crQvtEEAAAd8FCOy+V4j5IYBA4QLWQde6Py1Q2cbVutAOAQQQ8F2AXzr1vULMDwEEChfI4lc0i/h1zCzWoS1OEevVzo12CCCAgO8CHGH3vULMDwEEEEAAAQQQQKDUAgT2UpefxSOAAAIIIIAAAgj4LkBg971CzA8BBBBAAAEEEECg1AIE9lKXn8UjgAACCCCAAAII+C5AYPe9QswPAQQQQAABBBBAoNQCBPZSl5/FI4AAAggggAACCPguQGD3vULMDwEEEEAAAQQQQKDUAgT2UpefxSOAAAIIIIAAAgj4LkBg971CzA8BBBBAAAEEEECg1AKl+qXTCy64wJ122mmus7Oz1EVn8QhYCPTq1cudf/757tRTT7Xojj4yFmD/lzEw3asE2G+omGiEwFoCpTnCPmvWLLd06VIn/ySw80pAIL2AvPGOGTPGDR48OPonD38F2P/5W5uyzYz9RtkqznqtBEoR2G+66SY3e/ZsN3/+fCc7CwK71eZDP2UWiF9LI0eOdKNHj3ZHHHFEmTm8XTv7P29LU8qJsd8oZdlZtIFA8IH93nvvdWeddZbr6OiIuAjsBlsNXSBQ9VoaMmSImzp1qjvwwAOx8UiA/Z9HxWAqa70Hs99go0BALxB0YF++fLkbNWqUe+KJJ7pECOz6jYOWCPQkUP1a2nXXXd28efPcLrvsApwHAuz/PCgCU1hLgP0GGwUCzQkEG9hffvllt8cee7hVq1Z1kyGwN7eh8CwEqgVqvZb69+/vHn30UbfFFlsAVqAA+78C8Rm6RwH2G2wgCDQnEGRgX7Nmjevbt6977733Gn66b46NZyGAQL0Pv71793ZvvfWWW3/99UEqQID9XwHoDKkWYL+hpqIhAt0POLe3t3fKRZjt7e0mNOecc050UadVf81MSsK6HFnfeOONCezNAPIcBBQC9d54V69e7eRIu4R2HvkLsP/L35wR9QLsN/RWtESgUiC4I+zbbLNNdIHp1ltvXbPSnBLDCwABG4GeXkvPP/+8kwvKVq5caTMYvagE2P+pmGhUoAD7jQLxGbqlBYIK7IMGDYrusy7nrtd7ENhbentl8h4JNHotybnscn/2ZcuWeTTrcKfC/i/c2oa0MvYbIVWTteQpEMwvnQ4bNiz6FdOvfOUrPfoddNBBbvHixXkaMxYCQQq0tbW5RYsW9bi2u+66K/o11DvvvDNIA18Wxf7Pl0owj0YC7DcaCfH3CNQWCOII+1FHHRX9aIvcwpEHAgj4JSC3epQf75k7d65fEwtkNuz/Aikky+gmwH6DDQKB7gItH9gnTJgQ3fd5/Pjx1BYBBDwVmDlzppP7gs+YMcPTGbbmtNj/tWbdmLVOgP2GzolW5RBo6cAuv2Aqt5A788wzy1EtVolACwtMmzYtutWq/CIqj/QC7P/SG9KD/wLsN/yvETPMR6BlA/ull17q5E4Ul1xyST5SjIIAAqkFJk2aFN3B6aSTTkrdV5k7YP9X5uqXb+3sN8pXc1a8tkBLBvbZs2dHF7Fdd9111BQBBFpM4Lvf/a6TiyRHjx7dYjP3Y7rs//yoA7PIV4D9Rr7ejOafQMsF9gULFkTnwd52223+aTIjBBBQCXzta19zcv71iBEjVO1p9LEA+z+2hDILsN8oc/VZe0sF9gceeMDJV2NLly6lcggg0OICgwcPjk5p+9KXvtTiK8ln+uz/8nFmFL8F2G/4XR9ml51AywT2p59+2smn66eeeio7DXpGAIFcBf7+7/8++rZsxx13zHXcVhuM/V+rVYz5ZinAfiNLXfr2VaAlAvsbb7wRvaG//vrrvjoyLwQQaFKgX79+TgLppptu2mQPYT+N/V/Y9WV1zQmw32jOjWe1rkBL/NKp/Dppo19UbN0SMHMEEOA1Xn8bwIbXBwK1BXhtsGWUSYAj7GWqNmtFwEMBjpT1XBSOsHu40TKlwgXYbxReAiaQs0BLBHYx4RzOnLcMhkMgBwHORdUhs//TOdGqHALsN8pRZ1bZXaBlArtMm7sksPkiEI4Ad3tIVkv2f8m8aB2mAPuNMOvKqhoLtFRgl+VwH+LGRaUFAr4LcD/l5irE/q85N54VhgD7jTDqyCqaE2i5wC7L5Jf+mis2z0LABwF+sTBdFdj/pfPj2a0pwH6jNevGrO0EWjKwy/IvvfRS9/zzz0c/vMIDAQRaQ0B++Gzrrbd2J510UmtM2NNZsv/ztDBMKxMB9huZsNJpiwm0bGAX57POOsv17t3bnXnmmS3GznQRKJ/AtGnT3HvvveemTp1avsVnsGL2fxmg0qV3Auw3vCsJEypIoKUDu5hNmDDB7bLLLm78+PEFETIsAgg0Epg5c6Zbvny5mzFjRqOm/H0CAfZ/CbBo2nIC7DdarmRMOEOBlg/sYnPUUUe5I444wo0aNSpDKrpGAIFmBObNm+duuukmN3fu3GaeznMaCLD/YxMJUYD9RohVZU1pBHotXry4s62tLU0faz1XfpXUus9GExw2bJg77bTT3Fe+8pUem8ovoy1evLhRd/w9Agg0EJDXeKNfIL7rrrvc+eef7+688048MxRg/5chLl2bCrDfMOWksxIJ9Ors7OwMZb2DBg1ys2bNcnvssUfdJfXq1csFtORQSsc6WlCg0Wvp0UcfdWPGjHHLli1rwdW13pTZ/7Vezco4Y/YbZaw6a7YQCCqwC8g222zjOjo6ojtR1Ho02llYoNIHAmUQ6Om1JHdwGjJkiFu5cmUZKLxZI/s/b0rBROoIsN9g00CgOYHgArsw9O3b161atcptvPHGa6kQ2JvbUHgWAtUC9V5Lq1evdv3793dvvfUWaAUIsP8rAJ0h1QLsN9RUNESgm0CQgX3NmjVRaJdbyGlDBtsFAggkE6j3xiu3WpWwvv766yfrkNYmAuz/TBjpJCMB9hsZwdJt8AJBBnapmhxh33PPPd1LL73U/RMK57AHv1GzwHwEar3xbrnllu6RRx6JjrDzKE6A/V9x9ozcswD7DbYQBJoTCDawC4fc91lu9fjEE0906XBKTHMbCs9CoFqg+rW06667OrkVm/wuAo/iBdj/FV8DZrC2APsNtgoEmhMIOrALyb333hv9IqpciCoPAntzGwrPQqCnwC4XmMovmB544IFAeSTA/s+jYjCVtd6D2W+wUSCgFwg+sAuF/GjL7Nmz3fz58wns+m2Dlgj0KBB/+B05cqQbPXp09ONlPPwTYP/nX03KPCP2G2WuPmtPI1CKwC5Acn/2pUuXRv/kPuxpNhmei8DHAvLGK/dZHzx4cPRPHv4KsP/ztzZlmxn7jbJVnPVaCZQmsAvYBRdcEP0aakiB/f7773f7779/1/Zw/fXXu2OOOcZq+1D1I3OQbzAuueQS16dPn5rPef31193EiRNde3u722qrrdykSZOio7L77befagxtoz/84Q/RGJdffrnr169f19NkfHGR06Osx9TOLbR28sYrv2J66qmnhra0INfTivu/+HW7cOHCbjVZsmRJoa9j9ifNv0TYbzRvxzPLLVCqwB5aqSUoT5gwIbrQb+DAge7dd9+NgvABBxyQa2hPGthlrlk9COxZydIvAvkL1ArG8hqXmwnMmDGjsNBOYM9/W2BEBMouQGBv0S2gXjivDqxyIeDZZ58drTI++h4/d8CAAV1/d+6550ZHn6X9dttt1xX458yZ41asWBH9XfxG+fjjj7vhw4c7+Ts5ih0H9vPOO8+dccYZXUfO46Pqp59+urviiivcVVdd5XbffXd37bXXRv8dH2HvqV85Ui6PuXPnRs+NP5xUH3mL599sYJe1HHvssdFY8TivvfZat28OpG85teCcc86J2smHI1mTPOIjftLmxBNPjP6fHEmSfmfOnLmWc4tudkwbgVwF6gVjeV3dd999Xd/qVX7TOG7cuOj/x6/RWvs5+bvKfWO8/5D/X29/VLnwRoGd/UmumwmDIVAKAQJ7i5Y5DoaXXXZZdHS91kPeNORUFfmnhM/4qNSgQYOisCkPeWNbtmxZ15H6ypAav+FJsN5pp52iEC//Lv+UN7sXX3yx6/kyTr3ALqeobLbZZjVPiWnUr5zuI2E4nrO8+Z5yyindvkmotJA5Jz0lRt7sZT3xBxD5d3mMHz++a85iLH8vj3j98u/yQabymw75f5VH/yq/fZC/mzJlSnS+d5bfMrToJs20EVhLoF4wrvxgLvss+ZAs+8L4dLvK/YRmPxe/LmU/VXnqXOV+rvJ0v54CO/sTNmQEEMhCgMCehWoOfdY7klw5dPXR8jiIVgfeyvPL5fnxm19l+JU3xcogXBmS45DfTGCXN8ie+q0M0pVH+yvXWT3/pIG9ulyV48j4Q4cOjT4w1HtTj7+xkA8zsp7YT0K55nShHDYXhkCgJQU0gf2OO+5Y62h75QGE+BTByv1E9bdnMU512G72G7tKbPYnLbnpMWkEvBMgsHtXEt2EGh1hr3XKTPzGEQf2+JSUeheErly5sut0mOo3slpvfs0EdlltZSjv6U218o2v+mLb+DSWyg8Z2otOY6v49BbpI/6KXMa555573JFHHtl1Osw777wTHYWrvhBOTjnaa6+91jrCX/n1eBEXBeu2KFoh4J9AvcBeuT+SwB6fzhavQE7Z+8UvfuGmTZu21il68oE+/sYsfl78uqzer0h/lafixf33dISd/Yl/2xEzQiAEAQJ7i1ax3jns8kYyefJkN3369Ojc6crz0auPsNcK7PEbmZy3Lg85uix3Vak+0qQ5wl7Zpt4pMY2OsFfefSYO7HKqSuXX1mmPsFefD1v5wSD2FJfPfvaz0biV41Wf2tLTNx+VR+K5U02LvvCYdq4CmnPY5fc14utsKidX/Xqr97qtbCfPb3THK2nTU2Bnf5LrlD24kwAAAk5JREFUJsJgCJRGgMDewqWud5cYOX9Tzq1udA57vcAeX3S1xRZbdJ3XHb9Bac5hrxz/wgsvjC4UbfYcdk1gl3XG4zRzhL3yDTY+ei6BWgzjbwBuvPHGrgte4/8n/6y8GFfuWlH9AaQy/Esw4Bz2Fn7BMfXcBTR3ian+tjE+77ynb/wefvjhrpBf+bqsPoe9ch+q/caO/UnumwkDIlAKAQJ7i5e5+ivcyrsdxMGy3l1i6gX2yrvIxKFV+mp0lxi5gPWFF16ILrqUO8lcfPHF7sEHH+x27/UHHngg0V1iagX2+MNI/HW2nMoiF87G55D3dA57rfs5xxe+yt/JV+nHH3+8u/3227vdgaL6qFv1197xV+rVR9jrtWvxzY7pI5CLgPY+7JX7wfgOVhtuuGG333uodepffBpc5alqlfu5WqfDVB5hZ3+Sy2bAIAggIHee6wzpV4QoKQIZCFRfvJvBEHSJAAIlEWB/UpJCs0wEjAUI7MagdBeOQHx0XFbU06+4hrNiVoIAAlkJsD/JSpZ+ESiHAIG9HHVmlQgggAACCCCAAAItKkBgb9HCMW0EEEAAAQQQQACBcggQ2MtRZ1aJAAIIIIAAAggg0KICBPYWLRzTRgABBBBAAAEEECiHAIG9HHVmlQgggAACCCCAAAItKkBgb9HCMW0EEEAAAQQQQACBcggQ2MtRZ1aJAAIIIIAAAggg0KICBPYWLRzTRgABBBBAAAEEECiHAIG9HHVmlQgggAACCCCAAAItKkBgb9HCMW0EEEAAAQQQQACBcgj8fyPM5RMg4/lsAAAAAElFTkSuQmCC)"
      ],
      "metadata": {
        "id": "4-WqrN1bbJT7"
      }
    },
    {
      "cell_type": "code",
      "execution_count": null,
      "metadata": {
        "id": "9nIauVTuV9pr"
      },
      "outputs": [],
      "source": [
        "def residual_model(input_shape: tuple, identity_block_nums: List, filters_sizes: tuple, stride: int = 2) -> keras.Input: \n",
        "  X_input = Input(input_shape)\n",
        "  X = X_input\n",
        "\n",
        "  first_ib_num = identity_block_nums[0]\n",
        "  first_ib_filters = filters_sizes[0]\n",
        "\n",
        "  X = Conv1D(filters = first_ib_filters[0], kernel_size = 3, activation = 'relu', strides = stride)(X)\n",
        "\n",
        "  i = 0\n",
        "  while i < len(identity_block_nums):\n",
        "    filters = filters_sizes[i]\n",
        "    X = convolutional_block(X, filters_sizes = filters, stride = stride)\n",
        "    for c in range(identity_block_nums[i]):\n",
        "      X = identity_block(X, filters_sizes = filters)\n",
        "    i += 1\n",
        "\n",
        "  X = Flatten()(X)\n",
        "  X = Dense(1, activation = 'linear')(X)\n",
        "\n",
        "  model = Model(inputs = X_input, outputs = X, name = 'ResidualModel')\n",
        "  return model"
      ]
    },
    {
      "cell_type": "markdown",
      "source": [
        "**Method Name:** correlation\n",
        "\n",
        "**Parameters:** str, float, bool, Tuple, isCbar, save\n",
        "\n",
        "**Return:** set\n",
        "\n",
        "This function calculates the correlation of each column and return the columns that have more than *abs(threshold)* correlation value.\n",
        "\n",
        "* *corr_method* holds the correlation method. The correlation method may be kendall, spearman, and pearson. The default value is 'kendall'.\n",
        "* *threshold* defines the acceptable correlation range. The default value is 0.7.\n",
        "* *show* allows the matrix to be drawn or not. The default value is True\n",
        "* *fig_dims* holds the size of the figure of the correlation matrix. The default value is (12, 8).\n",
        "* *iscbar* allow the colour bar to be added or not. In some cases the figure of the correlation matrix does not fit the screen and the colour bar overlaps the matrix. The *isCbar* parameter exists to handle overlaps. The default values is True.\n",
        "* *save* allows the save the figure of the matrix. The default values is False."
      ],
      "metadata": {
        "id": "wbpF8fHO6IeF"
      }
    },
    {
      "cell_type": "code",
      "source": [
        "def correlation(corr_method: str = 'kendall', threshold: float = 0.7, show: bool = True, fig_dims: Tuple = (12, 8),\n",
        "                isCbar: bool = True, save: bool = False) -> set:\n",
        "  corr_features = set()\n",
        "  corr_matrix = dataset.corr(method = corr_method)\n",
        "  for i in range(len(corr_matrix.columns)):\n",
        "    for j in range(i):\n",
        "      if abs(corr_matrix.iloc[i, j]) > threshold:\n",
        "        colname = corr_matrix.columns[i]\n",
        "        corr_features.add(colname)\n",
        "  if show:\n",
        "    fig, ax = plt.subplots(figsize = fig_dims)\n",
        "    sns.heatmap(corr_matrix, ax = ax, annot = True, cmap = plt.cm.CMRmap_r, cbar = isCbar)\n",
        "    if save:\n",
        "        plt.savefig(\"png_format.png\", dpi = 300, format = \"png\")\n",
        "        plt.savefig(\"tiff_format.png\", dpi = 300, format = \"tiff\")\n",
        "    plt.show()\n",
        "  return corr_features"
      ],
      "metadata": {
        "id": "TQTCS5Ld4Dok"
      },
      "execution_count": null,
      "outputs": []
    },
    {
      "cell_type": "markdown",
      "source": [
        "**Method Name:** split_dataset\n",
        "\n",
        "**Parameters:** pd.DataFrame, float, bool, str\n",
        "\n",
        "**Return:** Tuple[list, list, list, list, list, list]\n",
        "\n",
        "This function splits the dataset and returns each part.\n",
        "\n",
        "* *dataset* is the dataset to be split.\n",
        "* *target_column* holds the name of the target column.\n",
        "* *split_ratio* defines the ratio of the training and test sets. The default value is 0.8 which means 80% of the dataset is split as the training dataset.\n",
        "* *shuffle* allows the dataset to be shuffled. The default value is True.\n",
        "\n",
        "This function returns:\n",
        "* The training dataset\n",
        "* The test dataset\n",
        "* The independent columns of the training dataset\n",
        "* The target column of the training dataset\n",
        "* The independent columns of the test dataset\n",
        "* The target column of the test dataset\n",
        "* All independent columns as one list\n",
        "* The target column as one list"
      ],
      "metadata": {
        "id": "e48_iLHTAau6"
      }
    },
    {
      "cell_type": "code",
      "source": [
        "def split_dataset(dataset: pd.DataFrame, target_column: str, split_ratio: float = 0.8, shuffle: bool = True) -> Tuple[list, list, list, list, list, list]:  \n",
        "  target_index = dataset.columns.get_loc(target_column)\n",
        "  data = np.array(dataset)\n",
        "  rows, columns = data.shape\n",
        "  if shuffle:\n",
        "    np.random.shuffle(data)\n",
        "  train_size = int(split_ratio * rows)\n",
        "  test_size = rows - train_size\n",
        "  train = data[:train_size].T\n",
        "  y_train = train[target_index]\n",
        "  X_train = np.delete(train.T, obj = target_index, axis = 1)\n",
        "  test = data[train_size:].T\n",
        "  y_test = test[target_index]\n",
        "  X_test = np.delete(test.T, obj = target_index, axis = 1)\n",
        "  data = data.T\n",
        "  y = data[target_index]\n",
        "  X = np.delete(data.T, obj = target_index, axis = 1)\n",
        "  return train.T, X_train, y_train, test.T, X_test, y_test, X, y"
      ],
      "metadata": {
        "id": "B5vrPVlWAYNy"
      },
      "execution_count": null,
      "outputs": []
    },
    {
      "cell_type": "markdown",
      "source": [
        "**Method Name:** factorize_columns\n",
        "\n",
        "**Parameters:** pd.DataFrame, str\n",
        "\n",
        "**Return:** pd.DataFrame, dictionary\n",
        "\n",
        "This function converts values of the columns to type of the target column. The details of the factorization process is [here](https://pandas.pydata.org/docs/reference/api/pandas.factorize.html).\n",
        "\n",
        "* *dataset* is the dataset to be factorized.\n",
        "* *target* holds the name of the target column.\n",
        "\n",
        "This function return both the converted dataset and labels of each converted value."
      ],
      "metadata": {
        "id": "_oSmP0zgZt1i"
      }
    },
    {
      "cell_type": "code",
      "source": [
        "def factorize_columns(dataset: pd.DataFrame, target: str) -> Tuple[pd.DataFrame, dict]:\n",
        "  all_labels = {}\n",
        "  for column in dataset.columns:\n",
        "    if dataset[column].dtypes != dataset[target].dtypes:\n",
        "      dataset[column], labels = pd.factorize(dataset[column])\n",
        "      all_labels[column] = labels\n",
        "  return dataset, all_labels"
      ],
      "metadata": {
        "id": "6kwV9pgt_O45"
      },
      "execution_count": null,
      "outputs": []
    },
    {
      "cell_type": "markdown",
      "source": [
        "## **PREPROCESS**"
      ],
      "metadata": {
        "id": "njwXOTaZ2pNU"
      }
    },
    {
      "cell_type": "markdown",
      "source": [
        "The variables of the dataset:"
      ],
      "metadata": {
        "id": "4_xIplD32yeV"
      }
    },
    {
      "cell_type": "code",
      "source": [
        "path = 'https://raw.githubusercontent.com/cengizmehmet/BenchmarkNets/main/data/SPEC2017_modified.csv'\n",
        "dataset = pd.read_csv(path)\n",
        "target = \"Base_Result\" #Target column"
      ],
      "metadata": {
        "id": "n8rh2yXVoy5g"
      },
      "execution_count": null,
      "outputs": []
    },
    {
      "cell_type": "code",
      "source": [
        "attributes = dataset.columns\n",
        "rows, columns = dataset.shape\n",
        "dtypes = dataset.dtypes\n",
        "\n",
        "print(attributes)\n",
        "print(\"-----\")\n",
        "print(\"Columns: \" + str(rows) + \"\\n\" + \"Rows: \" + str(columns))\n",
        "print(\"-----\")\n",
        "print(dtypes)"
      ],
      "metadata": {
        "id": "af9eDJh1xWYV"
      },
      "execution_count": null,
      "outputs": []
    },
    {
      "cell_type": "markdown",
      "source": [
        "The variables related to the correlation analysis:"
      ],
      "metadata": {
        "id": "V3ZxYks223W8"
      }
    },
    {
      "cell_type": "code",
      "source": [
        "corr_method = 'kendall'\n",
        "threshold = 0.7 #It is accepted that higher and lower values than 0.7 and -0.7 respectively point out the high correlation\n",
        "show = True #This defines whether the correlation matrix is drawn\n",
        "fig_dims = (12, 8) #This defines the size of the figure in case draw is True\n",
        "isCbar = False #This defines whether the colour bar is added as legend\n",
        "save = False #This defines whether the correlation matrix is saved"
      ],
      "metadata": {
        "id": "4JJIPQ4B2uQc"
      },
      "execution_count": null,
      "outputs": []
    },
    {
      "cell_type": "markdown",
      "source": [
        "In the following line, those two columns are dropped intentionally. The dataset contains two target column candidates: Peak Result and Base Result. Since we pick Base Result as the target column, Peak Result is dropped. The Disclosure column contains the HTML output of the benchmark of systems. Basically, it involves the same information as other columns."
      ],
      "metadata": {
        "id": "hNG4Otgvz77N"
      }
    },
    {
      "cell_type": "code",
      "source": [
        "dataset = dataset.drop(['Peak_Result'], axis = 1)\n",
        "dataset = dataset.drop(['Disclosures'], axis = 1)"
      ],
      "metadata": {
        "id": "TPctY8Bpz7oH"
      },
      "execution_count": null,
      "outputs": []
    },
    {
      "cell_type": "code",
      "source": [
        "dataset, labels = factorize_columns(dataset, target)"
      ],
      "metadata": {
        "id": "hvgTQnwbhysA"
      },
      "execution_count": null,
      "outputs": []
    },
    {
      "cell_type": "code",
      "source": [
        "correlated_features = correlation(corr_method = corr_method, threshold = threshold, show = show,\n",
        "                                  fig_dims = fig_dims, isCbar = isCbar, save = save)"
      ],
      "metadata": {
        "id": "yB4pOMeqhyo6"
      },
      "execution_count": null,
      "outputs": []
    },
    {
      "cell_type": "code",
      "source": [
        "print(correlated_features)"
      ],
      "metadata": {
        "id": "t6HakDmehymA"
      },
      "execution_count": null,
      "outputs": []
    },
    {
      "cell_type": "code",
      "source": [
        "dataset = dataset.drop(correlated_features, axis = 1) #Correlated column are dropped"
      ],
      "metadata": {
        "id": "fTeyx3rvhyhp"
      },
      "execution_count": null,
      "outputs": []
    },
    {
      "cell_type": "markdown",
      "source": [
        "After dropping the correlated columns, their label also must be dropped."
      ],
      "metadata": {
        "id": "pcqSI9-hrEHj"
      }
    },
    {
      "cell_type": "code",
      "source": [
        "for label in correlated_features:\n",
        "    labels.pop(label, None)"
      ],
      "metadata": {
        "id": "Jf7TL5fvrDrF"
      },
      "execution_count": null,
      "outputs": []
    },
    {
      "cell_type": "markdown",
      "source": [
        "In order to provide controlled randomness, seeds are used."
      ],
      "metadata": {
        "id": "7BH92fmqr6xu"
      }
    },
    {
      "cell_type": "code",
      "source": [
        "seed(1)"
      ],
      "metadata": {
        "id": "S1jaefA0kumZ"
      },
      "execution_count": null,
      "outputs": []
    },
    {
      "cell_type": "markdown",
      "source": [
        "The variables related to the split dataset:"
      ],
      "metadata": {
        "id": "gewMXmFivg6j"
      }
    },
    {
      "cell_type": "code",
      "source": [
        "m, n = dataset.shape\n",
        "split = 0.8\n",
        "shuffle = True"
      ],
      "metadata": {
        "id": "zpSe9biZkujw"
      },
      "execution_count": null,
      "outputs": []
    },
    {
      "cell_type": "code",
      "source": [
        "train, X_train, y_train, test, X_test, y_test, X, y = split_dataset(dataset = dataset, target_column = target, split_ratio = split, shuffle = shuffle)"
      ],
      "metadata": {
        "id": "QjhKzRpcu2M7"
      },
      "execution_count": null,
      "outputs": []
    },
    {
      "cell_type": "markdown",
      "source": [
        "## **MODEL**"
      ],
      "metadata": {
        "id": "n-puwWujHJLv"
      }
    },
    {
      "cell_type": "markdown",
      "source": [
        "### **Initialisation**"
      ],
      "metadata": {
        "id": "Cg5KjgUYHhq3"
      }
    },
    {
      "cell_type": "markdown",
      "source": [
        "The parameters of the MLP:"
      ],
      "metadata": {
        "id": "2fGGF-1vZRuj"
      }
    },
    {
      "cell_type": "code",
      "source": [
        "input_shape = ((n - 1), 1)\n",
        "identity_block_nums = [2, 5, 5, 2]\n",
        "filter_sizes = ((64, 64, 256), (128, 128, 512), (256, 256, 1024), (512, 512, 2048))\n",
        "stride_size = 1"
      ],
      "metadata": {
        "id": "ufkk109ucByX"
      },
      "execution_count": null,
      "outputs": []
    },
    {
      "cell_type": "code",
      "execution_count": null,
      "metadata": {
        "id": "TqJR9EcClHLA"
      },
      "outputs": [],
      "source": [
        "model = residual_model(input_shape, identity_block_nums, filter_sizes, stride_size)"
      ]
    },
    {
      "cell_type": "code",
      "execution_count": null,
      "metadata": {
        "id": "6pLOS8QdxJQQ"
      },
      "outputs": [],
      "source": [
        "model.summary()"
      ]
    },
    {
      "cell_type": "markdown",
      "source": [
        "### **Training**"
      ],
      "metadata": {
        "id": "CyFtJ4JdH1k-"
      }
    },
    {
      "cell_type": "markdown",
      "source": [
        "The training parameters:"
      ],
      "metadata": {
        "id": "zt85YG-WRbr1"
      }
    },
    {
      "cell_type": "code",
      "source": [
        "loss = \"mean_absolute_error\"\n",
        "opt = \"adam\" \n",
        "learning_rate = 0.001\n",
        "metrics = [\"mean_absolute_error\", \"mean_squared_error\", \"mean_absolute_percentage_error\", \"mean_squared_logarithmic_error\", \"logcosh\"]\n",
        "epochs = 5\n",
        "batch_size = 10\n",
        "validation_split = 0.2\n",
        "verbose = 1 #It may be 0 or 1"
      ],
      "metadata": {
        "id": "FCe5tALlRfik"
      },
      "execution_count": null,
      "outputs": []
    },
    {
      "cell_type": "code",
      "source": [
        "model.compile(\n",
        "        loss = loss,\n",
        "        optimizer = opt,\n",
        "        metrics = metrics\n",
        "        )"
      ],
      "metadata": {
        "id": "1_nb_7eTR52T"
      },
      "execution_count": null,
      "outputs": []
    },
    {
      "cell_type": "code",
      "source": [
        "history = model.fit(\n",
        "      X_train,\n",
        "      y_train,\n",
        "      epochs = epochs,\n",
        "      batch_size = batch_size,\n",
        "      verbose = verbose,\n",
        "      validation_split = validation_split\n",
        "      )"
      ],
      "metadata": {
        "id": "YJepBDktT_Vu"
      },
      "execution_count": null,
      "outputs": []
    },
    {
      "cell_type": "markdown",
      "source": [
        "Performance of the training phase:"
      ],
      "metadata": {
        "id": "VCTEBDT7U7Tr"
      }
    },
    {
      "cell_type": "code",
      "source": [
        "#This line allow to store training results in a dictionary. \n",
        "results_dict = {}\n",
        "for key in history.history.keys():\n",
        "  results_dict[key] = history.history[key]"
      ],
      "metadata": {
        "id": "F72rkEjZcaz8"
      },
      "execution_count": null,
      "outputs": []
    },
    {
      "cell_type": "code",
      "source": [
        "#To present average performance of the model\n",
        "for key in results_dict:\n",
        "  print(str(key) + '= ' + str(sum(results_dict[key]) / len(results_dict[key])))"
      ],
      "metadata": {
        "id": "KxK17PfucIhx"
      },
      "execution_count": null,
      "outputs": []
    },
    {
      "cell_type": "markdown",
      "source": [
        "Plotting the results of the training phase:"
      ],
      "metadata": {
        "id": "40UIXJ9eem13"
      }
    },
    {
      "cell_type": "code",
      "source": [
        "size = int(len(results_dict) / 2)\n",
        "keys = list(results_dict.keys())\n",
        "eps = range(1, epochs + 1)\n",
        "for i in range(size):\n",
        "  plt.plot(eps, results_dict[list(results_dict.keys())[i]], 'b', label = list(results_dict.keys())[i])\n",
        "  plt.plot(eps, results_dict[list(results_dict.keys())[i + 6]], 'r', label = list(results_dict.keys())[i + 6])\n",
        "  plt.xlabel('Epochs')\n",
        "  plt.ylabel(list(results_dict.keys())[i])\n",
        "  plt.legend()\n",
        "  plt.show()"
      ],
      "metadata": {
        "id": "wR_hKxjEZpK5"
      },
      "execution_count": null,
      "outputs": []
    },
    {
      "cell_type": "markdown",
      "source": [
        "### **Test**"
      ],
      "metadata": {
        "id": "x8kFBMKSUTCN"
      }
    },
    {
      "cell_type": "code",
      "source": [
        "preds = model.predict(X_test)"
      ],
      "metadata": {
        "id": "zBn6Mmr0UQWU"
      },
      "execution_count": null,
      "outputs": []
    },
    {
      "cell_type": "markdown",
      "source": [
        "Evalution of the test:"
      ],
      "metadata": {
        "id": "u2-qzv9iUZqb"
      }
    },
    {
      "cell_type": "code",
      "source": [
        "#Metrics\n",
        "  #R2\n",
        "r2_value = r2_score(y_test, preds)\n",
        "print(\"R2 = \" + str(r2_value))\n",
        "\n",
        "  #MSE\n",
        "mse = mean_squared_error(y_test, preds, squared = True)\n",
        "print(\"MSE = \" + str(mse))\n",
        "\n",
        "  #RMSE\n",
        "rmse = mean_squared_error(y_test, preds, squared = False)\n",
        "print(\"RMSE = \" + str(rmse))\n",
        "\n",
        "  #MAE\n",
        "mae = mean_absolute_error(y_test, preds)\n",
        "print(\"MAE = \" + str(mae))\n",
        "\n",
        "  #Explained Variance Score\n",
        "evs = explained_variance_score(y_test, preds)\n",
        "print(\"EVS = \" + str(evs))\n",
        "\n",
        "  #Mean Pinball Loss\n",
        "mpl = mean_pinball_loss(y_test, preds)\n",
        "print(\"MPL = \" + str(mpl))"
      ],
      "metadata": {
        "id": "wQDnb6fvUbk6"
      },
      "execution_count": null,
      "outputs": []
    },
    {
      "cell_type": "markdown",
      "source": [
        "Plotting the results of the test phase:"
      ],
      "metadata": {
        "id": "VCkyCC9wwyVD"
      }
    },
    {
      "cell_type": "code",
      "source": [
        "#Scatter plot\n",
        "fig, ax = plt.subplots(figsize=(12, 8))\n",
        "ax.scatter(y_test, preds, c='crimson')\n",
        "ax.plot([y_test.min(), y_test.max()], [y_test.min(), y_test.max()], 'b-')\n",
        "ax.set_xlabel('Actuals')\n",
        "ax.set_ylabel('Predictions')\n",
        "plt.show()"
      ],
      "metadata": {
        "id": "VmZRL9tzT5dj"
      },
      "execution_count": null,
      "outputs": []
    },
    {
      "cell_type": "code",
      "source": [
        "#Heat map\n",
        "xy = np.vstack([y_test, preds.flatten()])\n",
        "z = gaussian_kde(xy)(xy)\n",
        "idx = z.argsort()\n",
        "x, y, z = y_test[idx], preds[idx], z[idx]\n",
        "fig, ax = plt.subplots(figsize=(12, 8))\n",
        "ax.set_xlabel('Actuals')\n",
        "ax.set_ylabel('Predictions')\n",
        "cax = ax.scatter(x, y, c=z, s=50)\n",
        "fig.colorbar(cax)\n",
        "plt.show()"
      ],
      "metadata": {
        "id": "Ms98o5TLxI7v"
      },
      "execution_count": null,
      "outputs": []
    }
  ]
}